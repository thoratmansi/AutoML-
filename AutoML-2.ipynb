{
  "cells": [
    {
      "cell_type": "markdown",
      "source": [
        "Dataset:- **SALARY PREDICTION **"
      ],
      "metadata": {
        "id": "M-EugBo_E2_v"
      }
    },
    {
      "cell_type": "markdown",
      "source": [
        "# This dataset appears to be a tabular dataset containing various features related to individuals, such as age, workclass, education, marital status, occupation, race, sex, capital gains, capital loss, hours per week, native country, and salary.\n",
        "\n",
        "Here's a brief description of each column:\n",
        "\n",
        "- age: Age of the individual.\n",
        "- workclass: The type of employment (e.g., private, self-employed, government).\n",
        "- fnlwgt: Final weight. This is the number of people the census takers believe the entry represents.\n",
        "- education: Highest level of education achieved.\n",
        "- education-num: Numeric representation of education level.\n",
        "- marital-status: Marital status of the individual.\n",
        "- occupation: Occupation of the individual.\n",
        "- relationship: Relationship status of the individual.\n",
        "- race: Race of the individual.\n",
        "- sex: Gender of the individual.\n",
        "- capital-gain: Capital gains for the individual.\n",
        "- capital-loss: Capital losses for the individual.\n",
        "- hours-per-week: Hours worked per week.\n",
        "- native-country: Native country of the individual.\n",
        "- salary: Salary bracket, indicating whether the individual earns less than or more than $50K per year."
      ],
      "metadata": {
        "id": "Jn08LPPRNakf"
      }
    },
    {
      "cell_type": "markdown",
      "source": [
        "**PACKAGE INITIALIZATION**"
      ],
      "metadata": {
        "id": "au8WAz6HGlvK"
      }
    },
    {
      "cell_type": "code",
      "execution_count": 39,
      "metadata": {
        "colab": {
          "base_uri": "https://localhost:8080/"
        },
        "id": "Y5c6QWa3BD-q",
        "outputId": "27eaddcf-867f-4efc-cc66-31f5e1e97207"
      },
      "outputs": [
        {
          "output_type": "stream",
          "name": "stdout",
          "text": [
            "Requirement already satisfied: xgboost in /usr/local/lib/python3.10/dist-packages (2.0.3)\n",
            "Requirement already satisfied: numpy in /usr/local/lib/python3.10/dist-packages (from xgboost) (1.25.2)\n",
            "Requirement already satisfied: scipy in /usr/local/lib/python3.10/dist-packages (from xgboost) (1.11.4)\n"
          ]
        }
      ],
      "source": [
        "!pip install xgboost"
      ]
    },
    {
      "cell_type": "code",
      "execution_count": 2,
      "metadata": {
        "colab": {
          "base_uri": "https://localhost:8080/"
        },
        "id": "F1X8VTd2BKI3",
        "outputId": "28b9defc-715a-4a5e-9825-aeb3f5858320"
      },
      "outputs": [
        {
          "output_type": "stream",
          "name": "stdout",
          "text": [
            "Collecting datasist\n",
            "  Downloading datasist-1.5.3-py3-none-any.whl (33 kB)\n",
            "Requirement already satisfied: pandas in /usr/local/lib/python3.10/dist-packages (from datasist) (1.5.3)\n",
            "Requirement already satisfied: matplotlib in /usr/local/lib/python3.10/dist-packages (from datasist) (3.7.1)\n",
            "Requirement already satisfied: seaborn in /usr/local/lib/python3.10/dist-packages (from datasist) (0.13.1)\n",
            "Requirement already satisfied: numpy in /usr/local/lib/python3.10/dist-packages (from datasist) (1.25.2)\n",
            "Collecting jupyter (from datasist)\n",
            "  Downloading jupyter-1.0.0-py2.py3-none-any.whl (2.7 kB)\n",
            "Requirement already satisfied: scikit-learn in /usr/local/lib/python3.10/dist-packages (from datasist) (1.2.2)\n",
            "Requirement already satisfied: nltk in /usr/local/lib/python3.10/dist-packages (from datasist) (3.8.1)\n",
            "Requirement already satisfied: Joblib in /usr/local/lib/python3.10/dist-packages (from datasist) (1.3.2)\n",
            "Requirement already satisfied: notebook in /usr/local/lib/python3.10/dist-packages (from jupyter->datasist) (6.5.5)\n",
            "Collecting qtconsole (from jupyter->datasist)\n",
            "  Downloading qtconsole-5.5.1-py3-none-any.whl (123 kB)\n",
            "\u001b[2K     \u001b[90m━━━━━━━━━━━━━━━━━━━━━━━━━━━━━━━━━━━━━━━━\u001b[0m \u001b[32m123.4/123.4 kB\u001b[0m \u001b[31m2.2 MB/s\u001b[0m eta \u001b[36m0:00:00\u001b[0m\n",
            "\u001b[?25hRequirement already satisfied: jupyter-console in /usr/local/lib/python3.10/dist-packages (from jupyter->datasist) (6.1.0)\n",
            "Requirement already satisfied: nbconvert in /usr/local/lib/python3.10/dist-packages (from jupyter->datasist) (6.5.4)\n",
            "Requirement already satisfied: ipykernel in /usr/local/lib/python3.10/dist-packages (from jupyter->datasist) (5.5.6)\n",
            "Requirement already satisfied: ipywidgets in /usr/local/lib/python3.10/dist-packages (from jupyter->datasist) (7.7.1)\n",
            "Requirement already satisfied: contourpy>=1.0.1 in /usr/local/lib/python3.10/dist-packages (from matplotlib->datasist) (1.2.0)\n",
            "Requirement already satisfied: cycler>=0.10 in /usr/local/lib/python3.10/dist-packages (from matplotlib->datasist) (0.12.1)\n",
            "Requirement already satisfied: fonttools>=4.22.0 in /usr/local/lib/python3.10/dist-packages (from matplotlib->datasist) (4.48.1)\n",
            "Requirement already satisfied: kiwisolver>=1.0.1 in /usr/local/lib/python3.10/dist-packages (from matplotlib->datasist) (1.4.5)\n",
            "Requirement already satisfied: packaging>=20.0 in /usr/local/lib/python3.10/dist-packages (from matplotlib->datasist) (23.2)\n",
            "Requirement already satisfied: pillow>=6.2.0 in /usr/local/lib/python3.10/dist-packages (from matplotlib->datasist) (9.4.0)\n",
            "Requirement already satisfied: pyparsing>=2.3.1 in /usr/local/lib/python3.10/dist-packages (from matplotlib->datasist) (3.1.1)\n",
            "Requirement already satisfied: python-dateutil>=2.7 in /usr/local/lib/python3.10/dist-packages (from matplotlib->datasist) (2.8.2)\n",
            "Requirement already satisfied: click in /usr/local/lib/python3.10/dist-packages (from nltk->datasist) (8.1.7)\n",
            "Requirement already satisfied: regex>=2021.8.3 in /usr/local/lib/python3.10/dist-packages (from nltk->datasist) (2023.12.25)\n",
            "Requirement already satisfied: tqdm in /usr/local/lib/python3.10/dist-packages (from nltk->datasist) (4.66.2)\n",
            "Requirement already satisfied: pytz>=2020.1 in /usr/local/lib/python3.10/dist-packages (from pandas->datasist) (2023.4)\n",
            "Requirement already satisfied: scipy>=1.3.2 in /usr/local/lib/python3.10/dist-packages (from scikit-learn->datasist) (1.11.4)\n",
            "Requirement already satisfied: threadpoolctl>=2.0.0 in /usr/local/lib/python3.10/dist-packages (from scikit-learn->datasist) (3.2.0)\n",
            "Requirement already satisfied: six>=1.5 in /usr/local/lib/python3.10/dist-packages (from python-dateutil>=2.7->matplotlib->datasist) (1.16.0)\n",
            "Requirement already satisfied: ipython-genutils in /usr/local/lib/python3.10/dist-packages (from ipykernel->jupyter->datasist) (0.2.0)\n",
            "Requirement already satisfied: ipython>=5.0.0 in /usr/local/lib/python3.10/dist-packages (from ipykernel->jupyter->datasist) (7.34.0)\n",
            "Requirement already satisfied: traitlets>=4.1.0 in /usr/local/lib/python3.10/dist-packages (from ipykernel->jupyter->datasist) (5.7.1)\n",
            "Requirement already satisfied: jupyter-client in /usr/local/lib/python3.10/dist-packages (from ipykernel->jupyter->datasist) (6.1.12)\n",
            "Requirement already satisfied: tornado>=4.2 in /usr/local/lib/python3.10/dist-packages (from ipykernel->jupyter->datasist) (6.3.2)\n",
            "Requirement already satisfied: widgetsnbextension~=3.6.0 in /usr/local/lib/python3.10/dist-packages (from ipywidgets->jupyter->datasist) (3.6.6)\n",
            "Requirement already satisfied: jupyterlab-widgets>=1.0.0 in /usr/local/lib/python3.10/dist-packages (from ipywidgets->jupyter->datasist) (3.0.10)\n",
            "Requirement already satisfied: prompt-toolkit!=3.0.0,!=3.0.1,<3.1.0,>=2.0.0 in /usr/local/lib/python3.10/dist-packages (from jupyter-console->jupyter->datasist) (3.0.43)\n",
            "Requirement already satisfied: pygments in /usr/local/lib/python3.10/dist-packages (from jupyter-console->jupyter->datasist) (2.16.1)\n",
            "Requirement already satisfied: lxml in /usr/local/lib/python3.10/dist-packages (from nbconvert->jupyter->datasist) (4.9.4)\n",
            "Requirement already satisfied: beautifulsoup4 in /usr/local/lib/python3.10/dist-packages (from nbconvert->jupyter->datasist) (4.12.3)\n",
            "Requirement already satisfied: bleach in /usr/local/lib/python3.10/dist-packages (from nbconvert->jupyter->datasist) (6.1.0)\n",
            "Requirement already satisfied: defusedxml in /usr/local/lib/python3.10/dist-packages (from nbconvert->jupyter->datasist) (0.7.1)\n",
            "Requirement already satisfied: entrypoints>=0.2.2 in /usr/local/lib/python3.10/dist-packages (from nbconvert->jupyter->datasist) (0.4)\n",
            "Requirement already satisfied: jinja2>=3.0 in /usr/local/lib/python3.10/dist-packages (from nbconvert->jupyter->datasist) (3.1.3)\n",
            "Requirement already satisfied: jupyter-core>=4.7 in /usr/local/lib/python3.10/dist-packages (from nbconvert->jupyter->datasist) (5.7.1)\n",
            "Requirement already satisfied: jupyterlab-pygments in /usr/local/lib/python3.10/dist-packages (from nbconvert->jupyter->datasist) (0.3.0)\n",
            "Requirement already satisfied: MarkupSafe>=2.0 in /usr/local/lib/python3.10/dist-packages (from nbconvert->jupyter->datasist) (2.1.5)\n",
            "Requirement already satisfied: mistune<2,>=0.8.1 in /usr/local/lib/python3.10/dist-packages (from nbconvert->jupyter->datasist) (0.8.4)\n",
            "Requirement already satisfied: nbclient>=0.5.0 in /usr/local/lib/python3.10/dist-packages (from nbconvert->jupyter->datasist) (0.9.0)\n",
            "Requirement already satisfied: nbformat>=5.1 in /usr/local/lib/python3.10/dist-packages (from nbconvert->jupyter->datasist) (5.9.2)\n",
            "Requirement already satisfied: pandocfilters>=1.4.1 in /usr/local/lib/python3.10/dist-packages (from nbconvert->jupyter->datasist) (1.5.1)\n",
            "Requirement already satisfied: tinycss2 in /usr/local/lib/python3.10/dist-packages (from nbconvert->jupyter->datasist) (1.2.1)\n",
            "Requirement already satisfied: pyzmq<25,>=17 in /usr/local/lib/python3.10/dist-packages (from notebook->jupyter->datasist) (23.2.1)\n",
            "Requirement already satisfied: argon2-cffi in /usr/local/lib/python3.10/dist-packages (from notebook->jupyter->datasist) (23.1.0)\n",
            "Requirement already satisfied: nest-asyncio>=1.5 in /usr/local/lib/python3.10/dist-packages (from notebook->jupyter->datasist) (1.6.0)\n",
            "Requirement already satisfied: Send2Trash>=1.8.0 in /usr/local/lib/python3.10/dist-packages (from notebook->jupyter->datasist) (1.8.2)\n",
            "Requirement already satisfied: terminado>=0.8.3 in /usr/local/lib/python3.10/dist-packages (from notebook->jupyter->datasist) (0.18.0)\n",
            "Requirement already satisfied: prometheus-client in /usr/local/lib/python3.10/dist-packages (from notebook->jupyter->datasist) (0.19.0)\n",
            "Requirement already satisfied: nbclassic>=0.4.7 in /usr/local/lib/python3.10/dist-packages (from notebook->jupyter->datasist) (1.0.0)\n",
            "Collecting qtpy>=2.4.0 (from qtconsole->jupyter->datasist)\n",
            "  Downloading QtPy-2.4.1-py3-none-any.whl (93 kB)\n",
            "\u001b[2K     \u001b[90m━━━━━━━━━━━━━━━━━━━━━━━━━━━━━━━━━━━━━━━━\u001b[0m \u001b[32m93.5/93.5 kB\u001b[0m \u001b[31m7.9 MB/s\u001b[0m eta \u001b[36m0:00:00\u001b[0m\n",
            "\u001b[?25hRequirement already satisfied: setuptools>=18.5 in /usr/local/lib/python3.10/dist-packages (from ipython>=5.0.0->ipykernel->jupyter->datasist) (67.7.2)\n",
            "Collecting jedi>=0.16 (from ipython>=5.0.0->ipykernel->jupyter->datasist)\n",
            "  Downloading jedi-0.19.1-py2.py3-none-any.whl (1.6 MB)\n",
            "\u001b[2K     \u001b[90m━━━━━━━━━━━━━━━━━━━━━━━━━━━━━━━━━━━━━━━━\u001b[0m \u001b[32m1.6/1.6 MB\u001b[0m \u001b[31m12.0 MB/s\u001b[0m eta \u001b[36m0:00:00\u001b[0m\n",
            "\u001b[?25hRequirement already satisfied: decorator in /usr/local/lib/python3.10/dist-packages (from ipython>=5.0.0->ipykernel->jupyter->datasist) (4.4.2)\n",
            "Requirement already satisfied: pickleshare in /usr/local/lib/python3.10/dist-packages (from ipython>=5.0.0->ipykernel->jupyter->datasist) (0.7.5)\n",
            "Requirement already satisfied: backcall in /usr/local/lib/python3.10/dist-packages (from ipython>=5.0.0->ipykernel->jupyter->datasist) (0.2.0)\n",
            "Requirement already satisfied: matplotlib-inline in /usr/local/lib/python3.10/dist-packages (from ipython>=5.0.0->ipykernel->jupyter->datasist) (0.1.6)\n",
            "Requirement already satisfied: pexpect>4.3 in /usr/local/lib/python3.10/dist-packages (from ipython>=5.0.0->ipykernel->jupyter->datasist) (4.9.0)\n",
            "Requirement already satisfied: platformdirs>=2.5 in /usr/local/lib/python3.10/dist-packages (from jupyter-core>=4.7->nbconvert->jupyter->datasist) (4.2.0)\n",
            "Requirement already satisfied: jupyter-server>=1.8 in /usr/local/lib/python3.10/dist-packages (from nbclassic>=0.4.7->notebook->jupyter->datasist) (1.24.0)\n",
            "Requirement already satisfied: notebook-shim>=0.2.3 in /usr/local/lib/python3.10/dist-packages (from nbclassic>=0.4.7->notebook->jupyter->datasist) (0.2.3)\n",
            "Requirement already satisfied: fastjsonschema in /usr/local/lib/python3.10/dist-packages (from nbformat>=5.1->nbconvert->jupyter->datasist) (2.19.1)\n",
            "Requirement already satisfied: jsonschema>=2.6 in /usr/local/lib/python3.10/dist-packages (from nbformat>=5.1->nbconvert->jupyter->datasist) (4.19.2)\n",
            "Requirement already satisfied: wcwidth in /usr/local/lib/python3.10/dist-packages (from prompt-toolkit!=3.0.0,!=3.0.1,<3.1.0,>=2.0.0->jupyter-console->jupyter->datasist) (0.2.13)\n",
            "Requirement already satisfied: ptyprocess in /usr/local/lib/python3.10/dist-packages (from terminado>=0.8.3->notebook->jupyter->datasist) (0.7.0)\n",
            "Requirement already satisfied: argon2-cffi-bindings in /usr/local/lib/python3.10/dist-packages (from argon2-cffi->notebook->jupyter->datasist) (21.2.0)\n",
            "Requirement already satisfied: soupsieve>1.2 in /usr/local/lib/python3.10/dist-packages (from beautifulsoup4->nbconvert->jupyter->datasist) (2.5)\n",
            "Requirement already satisfied: webencodings in /usr/local/lib/python3.10/dist-packages (from bleach->nbconvert->jupyter->datasist) (0.5.1)\n",
            "Requirement already satisfied: parso<0.9.0,>=0.8.3 in /usr/local/lib/python3.10/dist-packages (from jedi>=0.16->ipython>=5.0.0->ipykernel->jupyter->datasist) (0.8.3)\n",
            "Requirement already satisfied: attrs>=22.2.0 in /usr/local/lib/python3.10/dist-packages (from jsonschema>=2.6->nbformat>=5.1->nbconvert->jupyter->datasist) (23.2.0)\n",
            "Requirement already satisfied: jsonschema-specifications>=2023.03.6 in /usr/local/lib/python3.10/dist-packages (from jsonschema>=2.6->nbformat>=5.1->nbconvert->jupyter->datasist) (2023.12.1)\n",
            "Requirement already satisfied: referencing>=0.28.4 in /usr/local/lib/python3.10/dist-packages (from jsonschema>=2.6->nbformat>=5.1->nbconvert->jupyter->datasist) (0.33.0)\n",
            "Requirement already satisfied: rpds-py>=0.7.1 in /usr/local/lib/python3.10/dist-packages (from jsonschema>=2.6->nbformat>=5.1->nbconvert->jupyter->datasist) (0.17.1)\n",
            "Requirement already satisfied: anyio<4,>=3.1.0 in /usr/local/lib/python3.10/dist-packages (from jupyter-server>=1.8->nbclassic>=0.4.7->notebook->jupyter->datasist) (3.7.1)\n",
            "Requirement already satisfied: websocket-client in /usr/local/lib/python3.10/dist-packages (from jupyter-server>=1.8->nbclassic>=0.4.7->notebook->jupyter->datasist) (1.7.0)\n",
            "Requirement already satisfied: cffi>=1.0.1 in /usr/local/lib/python3.10/dist-packages (from argon2-cffi-bindings->argon2-cffi->notebook->jupyter->datasist) (1.16.0)\n",
            "Requirement already satisfied: idna>=2.8 in /usr/local/lib/python3.10/dist-packages (from anyio<4,>=3.1.0->jupyter-server>=1.8->nbclassic>=0.4.7->notebook->jupyter->datasist) (3.6)\n",
            "Requirement already satisfied: sniffio>=1.1 in /usr/local/lib/python3.10/dist-packages (from anyio<4,>=3.1.0->jupyter-server>=1.8->nbclassic>=0.4.7->notebook->jupyter->datasist) (1.3.0)\n",
            "Requirement already satisfied: exceptiongroup in /usr/local/lib/python3.10/dist-packages (from anyio<4,>=3.1.0->jupyter-server>=1.8->nbclassic>=0.4.7->notebook->jupyter->datasist) (1.2.0)\n",
            "Requirement already satisfied: pycparser in /usr/local/lib/python3.10/dist-packages (from cffi>=1.0.1->argon2-cffi-bindings->argon2-cffi->notebook->jupyter->datasist) (2.21)\n",
            "Installing collected packages: qtpy, jedi, qtconsole, jupyter, datasist\n",
            "Successfully installed datasist-1.5.3 jedi-0.19.1 jupyter-1.0.0 qtconsole-5.5.1 qtpy-2.4.1\n"
          ]
        }
      ],
      "source": [
        "!pip install datasist\n"
      ]
    },
    {
      "cell_type": "markdown",
      "source": [
        "**Necessary imports**"
      ],
      "metadata": {
        "id": "vciiAysYJmI8"
      }
    },
    {
      "cell_type": "code",
      "execution_count": 3,
      "metadata": {
        "id": "_Je1vwliBYso"
      },
      "outputs": [],
      "source": [
        "import numpy as np\n",
        "import pandas as pd\n",
        "import seaborn as sns\n",
        "import matplotlib.pylab as plt\n",
        "from matplotlib import pyplot\n",
        "from sklearn.preprocessing import StandardScaler\n",
        "from sklearn.metrics import accuracy_score, confusion_matrix, classification_report, f1_score, precision_score, recall_score, roc_auc_score, roc_curve\n",
        "from sklearn.tree import DecisionTreeClassifier\n",
        "from sklearn.metrics import r2_score, mean_squared_error\n",
        "from sklearn.linear_model import LinearRegression\n",
        "from sklearn import datasets, linear_model\n",
        "from sklearn.metrics import accuracy_score,classification_report\n",
        "from sklearn.model_selection import GridSearchCV\n",
        "from xgboost import XGBClassifier\n",
        "from sklearn.ensemble import RandomForestClassifier,GradientBoostingClassifier,AdaBoostClassifier\n",
        "from sklearn.linear_model import LinearRegression, Lasso, Ridge, ElasticNet, SGDRegressor\n",
        "from sklearn.model_selection import  train_test_split\n",
        "from sklearn import metrics\n",
        "from sklearn.model_selection import KFold\n",
        "from statsmodels.stats.outliers_influence import variance_inflation_factor"
      ]
    },
    {
      "cell_type": "code",
      "execution_count": 4,
      "metadata": {
        "colab": {
          "base_uri": "https://localhost:8080/"
        },
        "id": "2ih_lwgZCDhj",
        "outputId": "42027ea5-10d0-49b7-e1e4-d7d70d4a484c"
      },
      "outputs": [
        {
          "output_type": "stream",
          "name": "stdout",
          "text": [
            "Requirement already satisfied: requests in /usr/local/lib/python3.10/dist-packages (2.31.0)\n",
            "Requirement already satisfied: charset-normalizer<4,>=2 in /usr/local/lib/python3.10/dist-packages (from requests) (3.3.2)\n",
            "Requirement already satisfied: idna<4,>=2.5 in /usr/local/lib/python3.10/dist-packages (from requests) (3.6)\n",
            "Requirement already satisfied: urllib3<3,>=1.21.1 in /usr/local/lib/python3.10/dist-packages (from requests) (2.0.7)\n",
            "Requirement already satisfied: certifi>=2017.4.17 in /usr/local/lib/python3.10/dist-packages (from requests) (2024.2.2)\n",
            "Requirement already satisfied: tabulate in /usr/local/lib/python3.10/dist-packages (0.9.0)\n",
            "Requirement already satisfied: future in /usr/local/lib/python3.10/dist-packages (0.18.3)\n"
          ]
        }
      ],
      "source": [
        "!pip install requests\n",
        "!pip install tabulate\n",
        "!pip install future"
      ]
    },
    {
      "cell_type": "code",
      "execution_count": 5,
      "metadata": {
        "colab": {
          "base_uri": "https://localhost:8080/"
        },
        "id": "t8uJj_AoCGgk",
        "outputId": "9219f012-e3e0-448e-fdd9-3be4a464f2fe"
      },
      "outputs": [
        {
          "output_type": "stream",
          "name": "stdout",
          "text": [
            "\u001b[33mWARNING: Skipping h2o as it is not installed.\u001b[0m\u001b[33m\n",
            "\u001b[0m"
          ]
        }
      ],
      "source": [
        "!pip uninstall h2o"
      ]
    },
    {
      "cell_type": "code",
      "execution_count": 6,
      "metadata": {
        "colab": {
          "base_uri": "https://localhost:8080/"
        },
        "id": "fyh6joPGChc2",
        "outputId": "90a700a0-7282-4fbb-87c2-edbac433a902"
      },
      "outputs": [
        {
          "output_type": "stream",
          "name": "stdout",
          "text": [
            "Looking in links: http://h2o-release.s3.amazonaws.com/h2o/latest_stable_Py.html\n",
            "\u001b[33mWARNING: The repository located at h2o-release.s3.amazonaws.com is not a trusted or secure host and is being ignored. If this repository is available via HTTPS we recommend you use HTTPS instead, otherwise you may silence this warning and allow it anyway with '--trusted-host h2o-release.s3.amazonaws.com'.\u001b[0m\u001b[33m\n",
            "\u001b[0mCollecting h2o\n",
            "  Downloading h2o-3.44.0.3.tar.gz (265.2 MB)\n",
            "\u001b[2K     \u001b[90m━━━━━━━━━━━━━━━━━━━━━━━━━━━━━━━━━━━━━━━━\u001b[0m \u001b[32m265.2/265.2 MB\u001b[0m \u001b[31m3.4 MB/s\u001b[0m eta \u001b[36m0:00:00\u001b[0m\n",
            "\u001b[?25h  Preparing metadata (setup.py) ... \u001b[?25l\u001b[?25hdone\n",
            "Requirement already satisfied: requests in /usr/local/lib/python3.10/dist-packages (from h2o) (2.31.0)\n",
            "Requirement already satisfied: tabulate in /usr/local/lib/python3.10/dist-packages (from h2o) (0.9.0)\n",
            "Requirement already satisfied: charset-normalizer<4,>=2 in /usr/local/lib/python3.10/dist-packages (from requests->h2o) (3.3.2)\n",
            "Requirement already satisfied: idna<4,>=2.5 in /usr/local/lib/python3.10/dist-packages (from requests->h2o) (3.6)\n",
            "Requirement already satisfied: urllib3<3,>=1.21.1 in /usr/local/lib/python3.10/dist-packages (from requests->h2o) (2.0.7)\n",
            "Requirement already satisfied: certifi>=2017.4.17 in /usr/local/lib/python3.10/dist-packages (from requests->h2o) (2024.2.2)\n",
            "Building wheels for collected packages: h2o\n",
            "  Building wheel for h2o (setup.py) ... \u001b[?25l\u001b[?25hdone\n",
            "  Created wheel for h2o: filename=h2o-3.44.0.3-py2.py3-none-any.whl size=265293968 sha256=0484200286ada5bfe476ef68e238918f75084a203e9be6421a3fa414f2b4ee3d\n",
            "  Stored in directory: /root/.cache/pip/wheels/77/9a/1c/2da26f943fd46b57f3c20b54847b936b9152b831dc7447cf71\n",
            "Successfully built h2o\n",
            "Installing collected packages: h2o\n",
            "Successfully installed h2o-3.44.0.3\n"
          ]
        }
      ],
      "source": [
        "!pip install -f http://h2o-release.s3.amazonaws.com/h2o/latest_stable_Py.html h2o"
      ]
    },
    {
      "cell_type": "markdown",
      "source": [
        "**Initiate H2O**"
      ],
      "metadata": {
        "id": "mYul0AiQG0uN"
      }
    },
    {
      "cell_type": "code",
      "execution_count": 7,
      "metadata": {
        "colab": {
          "base_uri": "https://localhost:8080/",
          "height": 535
        },
        "id": "N7aQGAvBCwP-",
        "outputId": "0b0a1b4c-cec5-44e7-b1f4-a56d4a2753c0"
      },
      "outputs": [
        {
          "output_type": "stream",
          "name": "stdout",
          "text": [
            "Checking whether there is an H2O instance running at http://localhost:54321..... not found.\n",
            "Attempting to start a local H2O server...\n",
            "  Java Version: openjdk version \"11.0.21\" 2023-10-17; OpenJDK Runtime Environment (build 11.0.21+9-post-Ubuntu-0ubuntu122.04); OpenJDK 64-Bit Server VM (build 11.0.21+9-post-Ubuntu-0ubuntu122.04, mixed mode, sharing)\n",
            "  Starting server from /usr/local/lib/python3.10/dist-packages/h2o/backend/bin/h2o.jar\n",
            "  Ice root: /tmp/tmponw0ippb\n",
            "  JVM stdout: /tmp/tmponw0ippb/h2o_unknownUser_started_from_python.out\n",
            "  JVM stderr: /tmp/tmponw0ippb/h2o_unknownUser_started_from_python.err\n",
            "  Server is running at http://127.0.0.1:54321\n",
            "Connecting to H2O server at http://127.0.0.1:54321 ... successful.\n"
          ]
        },
        {
          "output_type": "display_data",
          "data": {
            "text/plain": [
              "--------------------------  -----------------------------------------------------------------------------------------\n",
              "H2O_cluster_uptime:         06 secs\n",
              "H2O_cluster_timezone:       Etc/UTC\n",
              "H2O_data_parsing_timezone:  UTC\n",
              "H2O_cluster_version:        3.44.0.3\n",
              "H2O_cluster_version_age:    1 month and 30 days\n",
              "H2O_cluster_name:           H2O_from_python_unknownUser_2atem6\n",
              "H2O_cluster_total_nodes:    1\n",
              "H2O_cluster_free_memory:    3.170 Gb\n",
              "H2O_cluster_total_cores:    2\n",
              "H2O_cluster_allowed_cores:  2\n",
              "H2O_cluster_status:         locked, healthy\n",
              "H2O_connection_url:         http://127.0.0.1:54321\n",
              "H2O_connection_proxy:       {\"http\": null, \"https\": null, \"colab_language_server\": \"/usr/colab/bin/language_service\"}\n",
              "H2O_internal_security:      False\n",
              "Python_version:             3.10.12 final\n",
              "--------------------------  -----------------------------------------------------------------------------------------"
            ],
            "text/html": [
              "\n",
              "<style>\n",
              "\n",
              "#h2o-table-1.h2o-container {\n",
              "  overflow-x: auto;\n",
              "}\n",
              "#h2o-table-1 .h2o-table {\n",
              "  /* width: 100%; */\n",
              "  margin-top: 1em;\n",
              "  margin-bottom: 1em;\n",
              "}\n",
              "#h2o-table-1 .h2o-table caption {\n",
              "  white-space: nowrap;\n",
              "  caption-side: top;\n",
              "  text-align: left;\n",
              "  /* margin-left: 1em; */\n",
              "  margin: 0;\n",
              "  font-size: larger;\n",
              "}\n",
              "#h2o-table-1 .h2o-table thead {\n",
              "  white-space: nowrap; \n",
              "  position: sticky;\n",
              "  top: 0;\n",
              "  box-shadow: 0 -1px inset;\n",
              "}\n",
              "#h2o-table-1 .h2o-table tbody {\n",
              "  overflow: auto;\n",
              "}\n",
              "#h2o-table-1 .h2o-table th,\n",
              "#h2o-table-1 .h2o-table td {\n",
              "  text-align: right;\n",
              "  /* border: 1px solid; */\n",
              "}\n",
              "#h2o-table-1 .h2o-table tr:nth-child(even) {\n",
              "  /* background: #F5F5F5 */\n",
              "}\n",
              "\n",
              "</style>      \n",
              "<div id=\"h2o-table-1\" class=\"h2o-container\">\n",
              "  <table class=\"h2o-table\">\n",
              "    <caption></caption>\n",
              "    <thead></thead>\n",
              "    <tbody><tr><td>H2O_cluster_uptime:</td>\n",
              "<td>06 secs</td></tr>\n",
              "<tr><td>H2O_cluster_timezone:</td>\n",
              "<td>Etc/UTC</td></tr>\n",
              "<tr><td>H2O_data_parsing_timezone:</td>\n",
              "<td>UTC</td></tr>\n",
              "<tr><td>H2O_cluster_version:</td>\n",
              "<td>3.44.0.3</td></tr>\n",
              "<tr><td>H2O_cluster_version_age:</td>\n",
              "<td>1 month and 30 days</td></tr>\n",
              "<tr><td>H2O_cluster_name:</td>\n",
              "<td>H2O_from_python_unknownUser_2atem6</td></tr>\n",
              "<tr><td>H2O_cluster_total_nodes:</td>\n",
              "<td>1</td></tr>\n",
              "<tr><td>H2O_cluster_free_memory:</td>\n",
              "<td>3.170 Gb</td></tr>\n",
              "<tr><td>H2O_cluster_total_cores:</td>\n",
              "<td>2</td></tr>\n",
              "<tr><td>H2O_cluster_allowed_cores:</td>\n",
              "<td>2</td></tr>\n",
              "<tr><td>H2O_cluster_status:</td>\n",
              "<td>locked, healthy</td></tr>\n",
              "<tr><td>H2O_connection_url:</td>\n",
              "<td>http://127.0.0.1:54321</td></tr>\n",
              "<tr><td>H2O_connection_proxy:</td>\n",
              "<td>{\"http\": null, \"https\": null, \"colab_language_server\": \"/usr/colab/bin/language_service\"}</td></tr>\n",
              "<tr><td>H2O_internal_security:</td>\n",
              "<td>False</td></tr>\n",
              "<tr><td>Python_version:</td>\n",
              "<td>3.10.12 final</td></tr></tbody>\n",
              "  </table>\n",
              "</div>\n"
            ]
          },
          "metadata": {}
        }
      ],
      "source": [
        "import h2o\n",
        "h2o.init()"
      ]
    },
    {
      "cell_type": "markdown",
      "source": [
        "**Reading the data and displaying few rows**"
      ],
      "metadata": {
        "id": "t2r4ZmyQH4pI"
      }
    },
    {
      "cell_type": "code",
      "execution_count": 8,
      "metadata": {
        "colab": {
          "base_uri": "https://localhost:8080/"
        },
        "id": "0MPnMkN6uAGE",
        "outputId": "58d59a8c-8647-4dca-c882-0b7c26fdf553"
      },
      "outputs": [
        {
          "output_type": "stream",
          "name": "stdout",
          "text": [
            "   age          workclass  fnlwgt   education  education-num  \\\n",
            "0   39          State-gov   77516   Bachelors             13   \n",
            "1   50   Self-emp-not-inc   83311   Bachelors             13   \n",
            "2   38            Private  215646     HS-grad              9   \n",
            "3   53            Private  234721        11th              7   \n",
            "4   28            Private  338409   Bachelors             13   \n",
            "\n",
            "        marital-status          occupation    relationship    race      sex  \\\n",
            "0        Never-married        Adm-clerical   Not-in-family   White     Male   \n",
            "1   Married-civ-spouse     Exec-managerial         Husband   White     Male   \n",
            "2             Divorced   Handlers-cleaners   Not-in-family   White     Male   \n",
            "3   Married-civ-spouse   Handlers-cleaners         Husband   Black     Male   \n",
            "4   Married-civ-spouse      Prof-specialty            Wife   Black   Female   \n",
            "\n",
            "   capital-gain  capital-loss  hours-per-week  native-country  salary  \n",
            "0          2174             0              40   United-States   <=50K  \n",
            "1             0             0              13   United-States   <=50K  \n",
            "2             0             0              40   United-States   <=50K  \n",
            "3             0             0              40   United-States   <=50K  \n",
            "4             0             0              40            Cuba   <=50K  \n"
          ]
        }
      ],
      "source": [
        "# Reading the salary dataset from raw GitHub URL\n",
        "url = 'https://raw.githubusercontent.com/thoratmansi/AutoML-/main/salary.csv'\n",
        "data = pd.read_csv(url)\n",
        "\n",
        "# Display the first few rows of the dataset to verify it was read correctly\n",
        "print(data.head())"
      ]
    },
    {
      "cell_type": "markdown",
      "source": [
        "**Converting the non numeric data into numeric form**"
      ],
      "metadata": {
        "id": "DpWkVQ9MIvKC"
      }
    },
    {
      "cell_type": "code",
      "execution_count": 9,
      "metadata": {
        "id": "gAPadFEIV1KJ"
      },
      "outputs": [],
      "source": [
        "from sklearn.preprocessing import OrdinalEncoder\n",
        "ordinal_columns = ['workclass','occupation','race','sex','native-country','relationship','education','marital-status']\n",
        "encoder = OrdinalEncoder(categories='auto')\n",
        "data[ordinal_columns] = encoder.fit_transform(data[ordinal_columns])"
      ]
    },
    {
      "cell_type": "markdown",
      "source": [
        "**Utilizes scikit-learn's LabelEncoder to transform the 'salary' column in the DataFrame named 'data' into numerical labels.**"
      ],
      "metadata": {
        "id": "VTTn9w4BI1in"
      }
    },
    {
      "cell_type": "code",
      "execution_count": 10,
      "metadata": {
        "id": "UQHswfDAWLyY"
      },
      "outputs": [],
      "source": [
        "from sklearn.preprocessing import LabelEncoder\n",
        "le = LabelEncoder()\n",
        "data['salary'] = le.fit_transform(data['salary'])"
      ]
    },
    {
      "cell_type": "markdown",
      "source": [
        "**Correlation between all features in the data**"
      ],
      "metadata": {
        "id": "OcVNxwTkG-TC"
      }
    },
    {
      "cell_type": "code",
      "execution_count": 11,
      "metadata": {
        "colab": {
          "base_uri": "https://localhost:8080/",
          "height": 636
        },
        "id": "BG764AbdDUjr",
        "outputId": "cae28672-97b9-43b2-d387-8ce2350b1e3c"
      },
      "outputs": [
        {
          "output_type": "execute_result",
          "data": {
            "text/plain": [
              "                     age  workclass    fnlwgt  education  education-num  \\\n",
              "age             1.000000   0.003787 -0.076646  -0.010508       0.036527   \n",
              "workclass       0.003787   1.000000 -0.016656   0.023513       0.052085   \n",
              "fnlwgt         -0.076646  -0.016656  1.000000  -0.028145      -0.043195   \n",
              "education      -0.010508   0.023513 -0.028145   1.000000       0.359153   \n",
              "education-num   0.036527   0.052085 -0.043195   0.359153       1.000000   \n",
              "marital-status -0.266288  -0.064731  0.028153  -0.038407      -0.069304   \n",
              "occupation     -0.020947   0.254892  0.001597  -0.021260       0.109697   \n",
              "relationship   -0.263698  -0.090461  0.008931  -0.010876      -0.094153   \n",
              "race            0.028718   0.049742 -0.021291   0.014131       0.031838   \n",
              "sex             0.088832   0.095981  0.026858  -0.027356       0.012280   \n",
              "capital-gain    0.077674   0.033835  0.000432   0.030046       0.122630   \n",
              "capital-loss    0.057775   0.012216 -0.010252   0.016746       0.079923   \n",
              "hours-per-week  0.068756   0.138962 -0.018768   0.055510       0.148123   \n",
              "native-country -0.001151  -0.007690 -0.051966   0.064288       0.050840   \n",
              "salary          0.234037   0.051604 -0.009463   0.079317       0.335154   \n",
              "\n",
              "                marital-status  occupation  relationship      race       sex  \\\n",
              "age                  -0.266288   -0.020947     -0.263698  0.028718  0.088832   \n",
              "workclass            -0.064731    0.254892     -0.090461  0.049742  0.095981   \n",
              "fnlwgt                0.028153    0.001597      0.008931 -0.021291  0.026858   \n",
              "education            -0.038407   -0.021260     -0.010876  0.014131 -0.027356   \n",
              "education-num        -0.069304    0.109697     -0.094153  0.031838  0.012280   \n",
              "marital-status        1.000000   -0.009654      0.185451 -0.068013 -0.129314   \n",
              "occupation           -0.009654    1.000000     -0.075607  0.006763  0.080296   \n",
              "relationship          0.185451   -0.075607      1.000000 -0.116055 -0.582454   \n",
              "race                 -0.068013    0.006763     -0.116055  1.000000  0.087204   \n",
              "sex                  -0.129314    0.080296     -0.582454  0.087204  1.000000   \n",
              "capital-gain         -0.043393    0.025505     -0.057919  0.011145  0.048480   \n",
              "capital-loss         -0.034187    0.017987     -0.061062  0.018899  0.045567   \n",
              "hours-per-week       -0.190519    0.080383     -0.248974  0.041910  0.229309   \n",
              "native-country       -0.023819   -0.012543     -0.005507  0.137852 -0.008119   \n",
              "salary               -0.199307    0.075468     -0.250918  0.071846  0.215980   \n",
              "\n",
              "                capital-gain  capital-loss  hours-per-week  native-country  \\\n",
              "age                 0.077674      0.057775        0.068756       -0.001151   \n",
              "workclass           0.033835      0.012216        0.138962       -0.007690   \n",
              "fnlwgt              0.000432     -0.010252       -0.018768       -0.051966   \n",
              "education           0.030046      0.016746        0.055510        0.064288   \n",
              "education-num       0.122630      0.079923        0.148123        0.050840   \n",
              "marital-status     -0.043393     -0.034187       -0.190519       -0.023819   \n",
              "occupation          0.025505      0.017987        0.080383       -0.012543   \n",
              "relationship       -0.057919     -0.061062       -0.248974       -0.005507   \n",
              "race                0.011145      0.018899        0.041910        0.137852   \n",
              "sex                 0.048480      0.045567        0.229309       -0.008119   \n",
              "capital-gain        1.000000     -0.031615        0.078409       -0.001982   \n",
              "capital-loss       -0.031615      1.000000        0.054256        0.000419   \n",
              "hours-per-week      0.078409      0.054256        1.000000       -0.002671   \n",
              "native-country     -0.001982      0.000419       -0.002671        1.000000   \n",
              "salary              0.223329      0.150526        0.229689        0.015840   \n",
              "\n",
              "                  salary  \n",
              "age             0.234037  \n",
              "workclass       0.051604  \n",
              "fnlwgt         -0.009463  \n",
              "education       0.079317  \n",
              "education-num   0.335154  \n",
              "marital-status -0.199307  \n",
              "occupation      0.075468  \n",
              "relationship   -0.250918  \n",
              "race            0.071846  \n",
              "sex             0.215980  \n",
              "capital-gain    0.223329  \n",
              "capital-loss    0.150526  \n",
              "hours-per-week  0.229689  \n",
              "native-country  0.015840  \n",
              "salary          1.000000  "
            ],
            "text/html": [
              "\n",
              "  <div id=\"df-6c41eb43-535c-47eb-ae04-51ddfc9d838d\" class=\"colab-df-container\">\n",
              "    <div>\n",
              "<style scoped>\n",
              "    .dataframe tbody tr th:only-of-type {\n",
              "        vertical-align: middle;\n",
              "    }\n",
              "\n",
              "    .dataframe tbody tr th {\n",
              "        vertical-align: top;\n",
              "    }\n",
              "\n",
              "    .dataframe thead th {\n",
              "        text-align: right;\n",
              "    }\n",
              "</style>\n",
              "<table border=\"1\" class=\"dataframe\">\n",
              "  <thead>\n",
              "    <tr style=\"text-align: right;\">\n",
              "      <th></th>\n",
              "      <th>age</th>\n",
              "      <th>workclass</th>\n",
              "      <th>fnlwgt</th>\n",
              "      <th>education</th>\n",
              "      <th>education-num</th>\n",
              "      <th>marital-status</th>\n",
              "      <th>occupation</th>\n",
              "      <th>relationship</th>\n",
              "      <th>race</th>\n",
              "      <th>sex</th>\n",
              "      <th>capital-gain</th>\n",
              "      <th>capital-loss</th>\n",
              "      <th>hours-per-week</th>\n",
              "      <th>native-country</th>\n",
              "      <th>salary</th>\n",
              "    </tr>\n",
              "  </thead>\n",
              "  <tbody>\n",
              "    <tr>\n",
              "      <th>age</th>\n",
              "      <td>1.000000</td>\n",
              "      <td>0.003787</td>\n",
              "      <td>-0.076646</td>\n",
              "      <td>-0.010508</td>\n",
              "      <td>0.036527</td>\n",
              "      <td>-0.266288</td>\n",
              "      <td>-0.020947</td>\n",
              "      <td>-0.263698</td>\n",
              "      <td>0.028718</td>\n",
              "      <td>0.088832</td>\n",
              "      <td>0.077674</td>\n",
              "      <td>0.057775</td>\n",
              "      <td>0.068756</td>\n",
              "      <td>-0.001151</td>\n",
              "      <td>0.234037</td>\n",
              "    </tr>\n",
              "    <tr>\n",
              "      <th>workclass</th>\n",
              "      <td>0.003787</td>\n",
              "      <td>1.000000</td>\n",
              "      <td>-0.016656</td>\n",
              "      <td>0.023513</td>\n",
              "      <td>0.052085</td>\n",
              "      <td>-0.064731</td>\n",
              "      <td>0.254892</td>\n",
              "      <td>-0.090461</td>\n",
              "      <td>0.049742</td>\n",
              "      <td>0.095981</td>\n",
              "      <td>0.033835</td>\n",
              "      <td>0.012216</td>\n",
              "      <td>0.138962</td>\n",
              "      <td>-0.007690</td>\n",
              "      <td>0.051604</td>\n",
              "    </tr>\n",
              "    <tr>\n",
              "      <th>fnlwgt</th>\n",
              "      <td>-0.076646</td>\n",
              "      <td>-0.016656</td>\n",
              "      <td>1.000000</td>\n",
              "      <td>-0.028145</td>\n",
              "      <td>-0.043195</td>\n",
              "      <td>0.028153</td>\n",
              "      <td>0.001597</td>\n",
              "      <td>0.008931</td>\n",
              "      <td>-0.021291</td>\n",
              "      <td>0.026858</td>\n",
              "      <td>0.000432</td>\n",
              "      <td>-0.010252</td>\n",
              "      <td>-0.018768</td>\n",
              "      <td>-0.051966</td>\n",
              "      <td>-0.009463</td>\n",
              "    </tr>\n",
              "    <tr>\n",
              "      <th>education</th>\n",
              "      <td>-0.010508</td>\n",
              "      <td>0.023513</td>\n",
              "      <td>-0.028145</td>\n",
              "      <td>1.000000</td>\n",
              "      <td>0.359153</td>\n",
              "      <td>-0.038407</td>\n",
              "      <td>-0.021260</td>\n",
              "      <td>-0.010876</td>\n",
              "      <td>0.014131</td>\n",
              "      <td>-0.027356</td>\n",
              "      <td>0.030046</td>\n",
              "      <td>0.016746</td>\n",
              "      <td>0.055510</td>\n",
              "      <td>0.064288</td>\n",
              "      <td>0.079317</td>\n",
              "    </tr>\n",
              "    <tr>\n",
              "      <th>education-num</th>\n",
              "      <td>0.036527</td>\n",
              "      <td>0.052085</td>\n",
              "      <td>-0.043195</td>\n",
              "      <td>0.359153</td>\n",
              "      <td>1.000000</td>\n",
              "      <td>-0.069304</td>\n",
              "      <td>0.109697</td>\n",
              "      <td>-0.094153</td>\n",
              "      <td>0.031838</td>\n",
              "      <td>0.012280</td>\n",
              "      <td>0.122630</td>\n",
              "      <td>0.079923</td>\n",
              "      <td>0.148123</td>\n",
              "      <td>0.050840</td>\n",
              "      <td>0.335154</td>\n",
              "    </tr>\n",
              "    <tr>\n",
              "      <th>marital-status</th>\n",
              "      <td>-0.266288</td>\n",
              "      <td>-0.064731</td>\n",
              "      <td>0.028153</td>\n",
              "      <td>-0.038407</td>\n",
              "      <td>-0.069304</td>\n",
              "      <td>1.000000</td>\n",
              "      <td>-0.009654</td>\n",
              "      <td>0.185451</td>\n",
              "      <td>-0.068013</td>\n",
              "      <td>-0.129314</td>\n",
              "      <td>-0.043393</td>\n",
              "      <td>-0.034187</td>\n",
              "      <td>-0.190519</td>\n",
              "      <td>-0.023819</td>\n",
              "      <td>-0.199307</td>\n",
              "    </tr>\n",
              "    <tr>\n",
              "      <th>occupation</th>\n",
              "      <td>-0.020947</td>\n",
              "      <td>0.254892</td>\n",
              "      <td>0.001597</td>\n",
              "      <td>-0.021260</td>\n",
              "      <td>0.109697</td>\n",
              "      <td>-0.009654</td>\n",
              "      <td>1.000000</td>\n",
              "      <td>-0.075607</td>\n",
              "      <td>0.006763</td>\n",
              "      <td>0.080296</td>\n",
              "      <td>0.025505</td>\n",
              "      <td>0.017987</td>\n",
              "      <td>0.080383</td>\n",
              "      <td>-0.012543</td>\n",
              "      <td>0.075468</td>\n",
              "    </tr>\n",
              "    <tr>\n",
              "      <th>relationship</th>\n",
              "      <td>-0.263698</td>\n",
              "      <td>-0.090461</td>\n",
              "      <td>0.008931</td>\n",
              "      <td>-0.010876</td>\n",
              "      <td>-0.094153</td>\n",
              "      <td>0.185451</td>\n",
              "      <td>-0.075607</td>\n",
              "      <td>1.000000</td>\n",
              "      <td>-0.116055</td>\n",
              "      <td>-0.582454</td>\n",
              "      <td>-0.057919</td>\n",
              "      <td>-0.061062</td>\n",
              "      <td>-0.248974</td>\n",
              "      <td>-0.005507</td>\n",
              "      <td>-0.250918</td>\n",
              "    </tr>\n",
              "    <tr>\n",
              "      <th>race</th>\n",
              "      <td>0.028718</td>\n",
              "      <td>0.049742</td>\n",
              "      <td>-0.021291</td>\n",
              "      <td>0.014131</td>\n",
              "      <td>0.031838</td>\n",
              "      <td>-0.068013</td>\n",
              "      <td>0.006763</td>\n",
              "      <td>-0.116055</td>\n",
              "      <td>1.000000</td>\n",
              "      <td>0.087204</td>\n",
              "      <td>0.011145</td>\n",
              "      <td>0.018899</td>\n",
              "      <td>0.041910</td>\n",
              "      <td>0.137852</td>\n",
              "      <td>0.071846</td>\n",
              "    </tr>\n",
              "    <tr>\n",
              "      <th>sex</th>\n",
              "      <td>0.088832</td>\n",
              "      <td>0.095981</td>\n",
              "      <td>0.026858</td>\n",
              "      <td>-0.027356</td>\n",
              "      <td>0.012280</td>\n",
              "      <td>-0.129314</td>\n",
              "      <td>0.080296</td>\n",
              "      <td>-0.582454</td>\n",
              "      <td>0.087204</td>\n",
              "      <td>1.000000</td>\n",
              "      <td>0.048480</td>\n",
              "      <td>0.045567</td>\n",
              "      <td>0.229309</td>\n",
              "      <td>-0.008119</td>\n",
              "      <td>0.215980</td>\n",
              "    </tr>\n",
              "    <tr>\n",
              "      <th>capital-gain</th>\n",
              "      <td>0.077674</td>\n",
              "      <td>0.033835</td>\n",
              "      <td>0.000432</td>\n",
              "      <td>0.030046</td>\n",
              "      <td>0.122630</td>\n",
              "      <td>-0.043393</td>\n",
              "      <td>0.025505</td>\n",
              "      <td>-0.057919</td>\n",
              "      <td>0.011145</td>\n",
              "      <td>0.048480</td>\n",
              "      <td>1.000000</td>\n",
              "      <td>-0.031615</td>\n",
              "      <td>0.078409</td>\n",
              "      <td>-0.001982</td>\n",
              "      <td>0.223329</td>\n",
              "    </tr>\n",
              "    <tr>\n",
              "      <th>capital-loss</th>\n",
              "      <td>0.057775</td>\n",
              "      <td>0.012216</td>\n",
              "      <td>-0.010252</td>\n",
              "      <td>0.016746</td>\n",
              "      <td>0.079923</td>\n",
              "      <td>-0.034187</td>\n",
              "      <td>0.017987</td>\n",
              "      <td>-0.061062</td>\n",
              "      <td>0.018899</td>\n",
              "      <td>0.045567</td>\n",
              "      <td>-0.031615</td>\n",
              "      <td>1.000000</td>\n",
              "      <td>0.054256</td>\n",
              "      <td>0.000419</td>\n",
              "      <td>0.150526</td>\n",
              "    </tr>\n",
              "    <tr>\n",
              "      <th>hours-per-week</th>\n",
              "      <td>0.068756</td>\n",
              "      <td>0.138962</td>\n",
              "      <td>-0.018768</td>\n",
              "      <td>0.055510</td>\n",
              "      <td>0.148123</td>\n",
              "      <td>-0.190519</td>\n",
              "      <td>0.080383</td>\n",
              "      <td>-0.248974</td>\n",
              "      <td>0.041910</td>\n",
              "      <td>0.229309</td>\n",
              "      <td>0.078409</td>\n",
              "      <td>0.054256</td>\n",
              "      <td>1.000000</td>\n",
              "      <td>-0.002671</td>\n",
              "      <td>0.229689</td>\n",
              "    </tr>\n",
              "    <tr>\n",
              "      <th>native-country</th>\n",
              "      <td>-0.001151</td>\n",
              "      <td>-0.007690</td>\n",
              "      <td>-0.051966</td>\n",
              "      <td>0.064288</td>\n",
              "      <td>0.050840</td>\n",
              "      <td>-0.023819</td>\n",
              "      <td>-0.012543</td>\n",
              "      <td>-0.005507</td>\n",
              "      <td>0.137852</td>\n",
              "      <td>-0.008119</td>\n",
              "      <td>-0.001982</td>\n",
              "      <td>0.000419</td>\n",
              "      <td>-0.002671</td>\n",
              "      <td>1.000000</td>\n",
              "      <td>0.015840</td>\n",
              "    </tr>\n",
              "    <tr>\n",
              "      <th>salary</th>\n",
              "      <td>0.234037</td>\n",
              "      <td>0.051604</td>\n",
              "      <td>-0.009463</td>\n",
              "      <td>0.079317</td>\n",
              "      <td>0.335154</td>\n",
              "      <td>-0.199307</td>\n",
              "      <td>0.075468</td>\n",
              "      <td>-0.250918</td>\n",
              "      <td>0.071846</td>\n",
              "      <td>0.215980</td>\n",
              "      <td>0.223329</td>\n",
              "      <td>0.150526</td>\n",
              "      <td>0.229689</td>\n",
              "      <td>0.015840</td>\n",
              "      <td>1.000000</td>\n",
              "    </tr>\n",
              "  </tbody>\n",
              "</table>\n",
              "</div>\n",
              "    <div class=\"colab-df-buttons\">\n",
              "\n",
              "  <div class=\"colab-df-container\">\n",
              "    <button class=\"colab-df-convert\" onclick=\"convertToInteractive('df-6c41eb43-535c-47eb-ae04-51ddfc9d838d')\"\n",
              "            title=\"Convert this dataframe to an interactive table.\"\n",
              "            style=\"display:none;\">\n",
              "\n",
              "  <svg xmlns=\"http://www.w3.org/2000/svg\" height=\"24px\" viewBox=\"0 -960 960 960\">\n",
              "    <path d=\"M120-120v-720h720v720H120Zm60-500h600v-160H180v160Zm220 220h160v-160H400v160Zm0 220h160v-160H400v160ZM180-400h160v-160H180v160Zm440 0h160v-160H620v160ZM180-180h160v-160H180v160Zm440 0h160v-160H620v160Z\"/>\n",
              "  </svg>\n",
              "    </button>\n",
              "\n",
              "  <style>\n",
              "    .colab-df-container {\n",
              "      display:flex;\n",
              "      gap: 12px;\n",
              "    }\n",
              "\n",
              "    .colab-df-convert {\n",
              "      background-color: #E8F0FE;\n",
              "      border: none;\n",
              "      border-radius: 50%;\n",
              "      cursor: pointer;\n",
              "      display: none;\n",
              "      fill: #1967D2;\n",
              "      height: 32px;\n",
              "      padding: 0 0 0 0;\n",
              "      width: 32px;\n",
              "    }\n",
              "\n",
              "    .colab-df-convert:hover {\n",
              "      background-color: #E2EBFA;\n",
              "      box-shadow: 0px 1px 2px rgba(60, 64, 67, 0.3), 0px 1px 3px 1px rgba(60, 64, 67, 0.15);\n",
              "      fill: #174EA6;\n",
              "    }\n",
              "\n",
              "    .colab-df-buttons div {\n",
              "      margin-bottom: 4px;\n",
              "    }\n",
              "\n",
              "    [theme=dark] .colab-df-convert {\n",
              "      background-color: #3B4455;\n",
              "      fill: #D2E3FC;\n",
              "    }\n",
              "\n",
              "    [theme=dark] .colab-df-convert:hover {\n",
              "      background-color: #434B5C;\n",
              "      box-shadow: 0px 1px 3px 1px rgba(0, 0, 0, 0.15);\n",
              "      filter: drop-shadow(0px 1px 2px rgba(0, 0, 0, 0.3));\n",
              "      fill: #FFFFFF;\n",
              "    }\n",
              "  </style>\n",
              "\n",
              "    <script>\n",
              "      const buttonEl =\n",
              "        document.querySelector('#df-6c41eb43-535c-47eb-ae04-51ddfc9d838d button.colab-df-convert');\n",
              "      buttonEl.style.display =\n",
              "        google.colab.kernel.accessAllowed ? 'block' : 'none';\n",
              "\n",
              "      async function convertToInteractive(key) {\n",
              "        const element = document.querySelector('#df-6c41eb43-535c-47eb-ae04-51ddfc9d838d');\n",
              "        const dataTable =\n",
              "          await google.colab.kernel.invokeFunction('convertToInteractive',\n",
              "                                                    [key], {});\n",
              "        if (!dataTable) return;\n",
              "\n",
              "        const docLinkHtml = 'Like what you see? Visit the ' +\n",
              "          '<a target=\"_blank\" href=https://colab.research.google.com/notebooks/data_table.ipynb>data table notebook</a>'\n",
              "          + ' to learn more about interactive tables.';\n",
              "        element.innerHTML = '';\n",
              "        dataTable['output_type'] = 'display_data';\n",
              "        await google.colab.output.renderOutput(dataTable, element);\n",
              "        const docLink = document.createElement('div');\n",
              "        docLink.innerHTML = docLinkHtml;\n",
              "        element.appendChild(docLink);\n",
              "      }\n",
              "    </script>\n",
              "  </div>\n",
              "\n",
              "\n",
              "<div id=\"df-bf713e8b-fdea-417b-9c16-36fe75f400a0\">\n",
              "  <button class=\"colab-df-quickchart\" onclick=\"quickchart('df-bf713e8b-fdea-417b-9c16-36fe75f400a0')\"\n",
              "            title=\"Suggest charts\"\n",
              "            style=\"display:none;\">\n",
              "\n",
              "<svg xmlns=\"http://www.w3.org/2000/svg\" height=\"24px\"viewBox=\"0 0 24 24\"\n",
              "     width=\"24px\">\n",
              "    <g>\n",
              "        <path d=\"M19 3H5c-1.1 0-2 .9-2 2v14c0 1.1.9 2 2 2h14c1.1 0 2-.9 2-2V5c0-1.1-.9-2-2-2zM9 17H7v-7h2v7zm4 0h-2V7h2v10zm4 0h-2v-4h2v4z\"/>\n",
              "    </g>\n",
              "</svg>\n",
              "  </button>\n",
              "\n",
              "<style>\n",
              "  .colab-df-quickchart {\n",
              "      --bg-color: #E8F0FE;\n",
              "      --fill-color: #1967D2;\n",
              "      --hover-bg-color: #E2EBFA;\n",
              "      --hover-fill-color: #174EA6;\n",
              "      --disabled-fill-color: #AAA;\n",
              "      --disabled-bg-color: #DDD;\n",
              "  }\n",
              "\n",
              "  [theme=dark] .colab-df-quickchart {\n",
              "      --bg-color: #3B4455;\n",
              "      --fill-color: #D2E3FC;\n",
              "      --hover-bg-color: #434B5C;\n",
              "      --hover-fill-color: #FFFFFF;\n",
              "      --disabled-bg-color: #3B4455;\n",
              "      --disabled-fill-color: #666;\n",
              "  }\n",
              "\n",
              "  .colab-df-quickchart {\n",
              "    background-color: var(--bg-color);\n",
              "    border: none;\n",
              "    border-radius: 50%;\n",
              "    cursor: pointer;\n",
              "    display: none;\n",
              "    fill: var(--fill-color);\n",
              "    height: 32px;\n",
              "    padding: 0;\n",
              "    width: 32px;\n",
              "  }\n",
              "\n",
              "  .colab-df-quickchart:hover {\n",
              "    background-color: var(--hover-bg-color);\n",
              "    box-shadow: 0 1px 2px rgba(60, 64, 67, 0.3), 0 1px 3px 1px rgba(60, 64, 67, 0.15);\n",
              "    fill: var(--button-hover-fill-color);\n",
              "  }\n",
              "\n",
              "  .colab-df-quickchart-complete:disabled,\n",
              "  .colab-df-quickchart-complete:disabled:hover {\n",
              "    background-color: var(--disabled-bg-color);\n",
              "    fill: var(--disabled-fill-color);\n",
              "    box-shadow: none;\n",
              "  }\n",
              "\n",
              "  .colab-df-spinner {\n",
              "    border: 2px solid var(--fill-color);\n",
              "    border-color: transparent;\n",
              "    border-bottom-color: var(--fill-color);\n",
              "    animation:\n",
              "      spin 1s steps(1) infinite;\n",
              "  }\n",
              "\n",
              "  @keyframes spin {\n",
              "    0% {\n",
              "      border-color: transparent;\n",
              "      border-bottom-color: var(--fill-color);\n",
              "      border-left-color: var(--fill-color);\n",
              "    }\n",
              "    20% {\n",
              "      border-color: transparent;\n",
              "      border-left-color: var(--fill-color);\n",
              "      border-top-color: var(--fill-color);\n",
              "    }\n",
              "    30% {\n",
              "      border-color: transparent;\n",
              "      border-left-color: var(--fill-color);\n",
              "      border-top-color: var(--fill-color);\n",
              "      border-right-color: var(--fill-color);\n",
              "    }\n",
              "    40% {\n",
              "      border-color: transparent;\n",
              "      border-right-color: var(--fill-color);\n",
              "      border-top-color: var(--fill-color);\n",
              "    }\n",
              "    60% {\n",
              "      border-color: transparent;\n",
              "      border-right-color: var(--fill-color);\n",
              "    }\n",
              "    80% {\n",
              "      border-color: transparent;\n",
              "      border-right-color: var(--fill-color);\n",
              "      border-bottom-color: var(--fill-color);\n",
              "    }\n",
              "    90% {\n",
              "      border-color: transparent;\n",
              "      border-bottom-color: var(--fill-color);\n",
              "    }\n",
              "  }\n",
              "</style>\n",
              "\n",
              "  <script>\n",
              "    async function quickchart(key) {\n",
              "      const quickchartButtonEl =\n",
              "        document.querySelector('#' + key + ' button');\n",
              "      quickchartButtonEl.disabled = true;  // To prevent multiple clicks.\n",
              "      quickchartButtonEl.classList.add('colab-df-spinner');\n",
              "      try {\n",
              "        const charts = await google.colab.kernel.invokeFunction(\n",
              "            'suggestCharts', [key], {});\n",
              "      } catch (error) {\n",
              "        console.error('Error during call to suggestCharts:', error);\n",
              "      }\n",
              "      quickchartButtonEl.classList.remove('colab-df-spinner');\n",
              "      quickchartButtonEl.classList.add('colab-df-quickchart-complete');\n",
              "    }\n",
              "    (() => {\n",
              "      let quickchartButtonEl =\n",
              "        document.querySelector('#df-bf713e8b-fdea-417b-9c16-36fe75f400a0 button');\n",
              "      quickchartButtonEl.style.display =\n",
              "        google.colab.kernel.accessAllowed ? 'block' : 'none';\n",
              "    })();\n",
              "  </script>\n",
              "</div>\n",
              "\n",
              "    </div>\n",
              "  </div>\n"
            ],
            "application/vnd.google.colaboratory.intrinsic+json": {
              "type": "dataframe",
              "summary": "{\n  \"name\": \"data\",\n  \"rows\": 15,\n  \"fields\": [\n    {\n      \"column\": \"age\",\n      \"properties\": {\n        \"dtype\": \"number\",\n        \"std\": 0.2884400578783364,\n        \"min\": -0.2662880222143114,\n        \"max\": 1.0,\n        \"samples\": [\n          0.08883173120971614,\n          0.057774539478974145,\n          1.0\n        ],\n        \"num_unique_values\": 15,\n        \"semantic_type\": \"\",\n        \"description\": \"\"\n      }\n    },\n    {\n      \"column\": \"workclass\",\n      \"properties\": {\n        \"dtype\": \"number\",\n        \"std\": 0.26164402588955255,\n        \"min\": -0.09046106964719103,\n        \"max\": 1.0,\n        \"samples\": [\n          0.09598083475028725,\n          0.012215519875340995,\n          0.003787352608602223\n        ],\n        \"num_unique_values\": 15,\n        \"semantic_type\": \"\",\n        \"description\": \"\"\n      }\n    },\n    {\n      \"column\": \"fnlwgt\",\n      \"properties\": {\n        \"dtype\": \"number\",\n        \"std\": 0.2635666604698705,\n        \"min\": -0.07664586787504064,\n        \"max\": 1.0,\n        \"samples\": [\n          0.026858045269865558,\n          -0.010251711675330953,\n          -0.07664586787504064\n        ],\n        \"num_unique_values\": 15,\n        \"semantic_type\": \"\",\n        \"description\": \"\"\n      }\n    },\n    {\n      \"column\": \"education\",\n      \"properties\": {\n        \"dtype\": \"number\",\n        \"std\": 0.2668460320464993,\n        \"min\": -0.03840691879295059,\n        \"max\": 1.0,\n        \"samples\": [\n          -0.027356238124779126,\n          0.016746232077415827,\n          -0.010508281762740018\n        ],\n        \"num_unique_values\": 15,\n        \"semantic_type\": \"\",\n        \"description\": \"\"\n      }\n    },\n    {\n      \"column\": \"education-num\",\n      \"properties\": {\n        \"dtype\": \"number\",\n        \"std\": 0.26954118955715034,\n        \"min\": -0.09415308596261361,\n        \"max\": 1.0,\n        \"samples\": [\n          0.012280054339655656,\n          0.07992295668664588,\n          0.036527189464106324\n        ],\n        \"num_unique_values\": 15,\n        \"semantic_type\": \"\",\n        \"description\": \"\"\n      }\n    },\n    {\n      \"column\": \"marital-status\",\n      \"properties\": {\n        \"dtype\": \"number\",\n        \"std\": 0.29486699814036765,\n        \"min\": -0.2662880222143114,\n        \"max\": 1.0,\n        \"samples\": [\n          -0.12931446741385869,\n          -0.03418736810982054,\n          -0.2662880222143114\n        ],\n        \"num_unique_values\": 15,\n        \"semantic_type\": \"\",\n        \"description\": \"\"\n      }\n    },\n    {\n      \"column\": \"occupation\",\n      \"properties\": {\n        \"dtype\": \"number\",\n        \"std\": 0.26062584590753135,\n        \"min\": -0.07560702222282398,\n        \"max\": 1.0,\n        \"samples\": [\n          0.08029644294811122,\n          0.017987073298888302,\n          -0.020947025177779636\n        ],\n        \"num_unique_values\": 15,\n        \"semantic_type\": \"\",\n        \"description\": \"\"\n      }\n    },\n    {\n      \"column\": \"relationship\",\n      \"properties\": {\n        \"dtype\": \"number\",\n        \"std\": 0.33619110267866553,\n        \"min\": -0.5824536900498275,\n        \"max\": 1.0,\n        \"samples\": [\n          -0.5824536900498275,\n          -0.06106219812429686,\n          -0.26369758685358224\n        ],\n        \"num_unique_values\": 15,\n        \"semantic_type\": \"\",\n        \"description\": \"\"\n      }\n    },\n    {\n      \"column\": \"race\",\n      \"properties\": {\n        \"dtype\": \"number\",\n        \"std\": 0.2598577971022947,\n        \"min\": -0.1160545956371845,\n        \"max\": 1.0,\n        \"samples\": [\n          0.08720430156362233,\n          0.018899000382121254,\n          0.0287183808150174\n        ],\n        \"num_unique_values\": 15,\n        \"semantic_type\": \"\",\n        \"description\": \"\"\n      }\n    },\n    {\n      \"column\": \"sex\",\n      \"properties\": {\n        \"dtype\": \"number\",\n        \"std\": 0.316124755485587,\n        \"min\": -0.5824536900498275,\n        \"max\": 1.0,\n        \"samples\": [\n          1.0,\n          0.04556735467865356,\n          0.08883173120971614\n        ],\n        \"num_unique_values\": 15,\n        \"semantic_type\": \"\",\n        \"description\": \"\"\n      }\n    },\n    {\n      \"column\": \"capital-gain\",\n      \"properties\": {\n        \"dtype\": \"number\",\n        \"std\": 0.25845363062648025,\n        \"min\": -0.05791945017525013,\n        \"max\": 1.0,\n        \"samples\": [\n          0.0484796468686598,\n          -0.03161506295222775,\n          0.0776744981659941\n        ],\n        \"num_unique_values\": 15,\n        \"semantic_type\": \"\",\n        \"description\": \"\"\n      }\n    },\n    {\n      \"column\": \"capital-loss\",\n      \"properties\": {\n        \"dtype\": \"number\",\n        \"std\": 0.2575778810373294,\n        \"min\": -0.06106219812429686,\n        \"max\": 1.0,\n        \"samples\": [\n          0.04556735467865356,\n          1.0,\n          0.057774539478974145\n        ],\n        \"num_unique_values\": 15,\n        \"semantic_type\": \"\",\n        \"description\": \"\"\n      }\n    },\n    {\n      \"column\": \"hours-per-week\",\n      \"properties\": {\n        \"dtype\": \"number\",\n        \"std\": 0.2784752177297986,\n        \"min\": -0.24897447393910027,\n        \"max\": 1.0,\n        \"samples\": [\n          0.22930914902630847,\n          0.05425636227265108,\n          0.06875570750955742\n        ],\n        \"num_unique_values\": 15,\n        \"semantic_type\": \"\",\n        \"description\": \"\"\n      }\n    },\n    {\n      \"column\": \"native-country\",\n      \"properties\": {\n        \"dtype\": \"number\",\n        \"std\": 0.25923180214282004,\n        \"min\": -0.051965767342176526,\n        \"max\": 1.0,\n        \"samples\": [\n          -0.008118721130042663,\n          0.00041853703761143623,\n          -0.0011510333146239383\n        ],\n        \"num_unique_values\": 15,\n        \"semantic_type\": \"\",\n        \"description\": \"\"\n      }\n    },\n    {\n      \"column\": \"salary\",\n      \"properties\": {\n        \"dtype\": \"number\",\n        \"std\": 0.28440363089312587,\n        \"min\": -0.25091814171775007,\n        \"max\": 1.0,\n        \"samples\": [\n          0.2159801505840364,\n          0.15052631177035347,\n          0.23403710264885705\n        ],\n        \"num_unique_values\": 15,\n        \"semantic_type\": \"\",\n        \"description\": \"\"\n      }\n    }\n  ]\n}"
            }
          },
          "metadata": {},
          "execution_count": 11
        }
      ],
      "source": [
        "data.corr()"
      ]
    },
    {
      "cell_type": "markdown",
      "source": [
        "**HEATMAP**"
      ],
      "metadata": {
        "id": "kNUdIj9EJDMC"
      }
    },
    {
      "cell_type": "code",
      "execution_count": 12,
      "metadata": {
        "colab": {
          "base_uri": "https://localhost:8080/",
          "height": 635
        },
        "id": "h5Gv6jE6GCK1",
        "outputId": "0fee0ef1-8a0c-4188-f7f3-8597ca61a1fa"
      },
      "outputs": [
        {
          "output_type": "execute_result",
          "data": {
            "text/plain": [
              "<Axes: >"
            ]
          },
          "metadata": {},
          "execution_count": 12
        },
        {
          "output_type": "display_data",
          "data": {
            "text/plain": [
              "<Figure size 2000x700 with 2 Axes>"
            ],
            "image/png": "[encoded data removed]"
          },
          "metadata": {}
        }
      ],
      "source": [
        "plt.figure(figsize=(20,7))\n",
        "sns.heatmap(data.corr(), annot=True, cmap='RdYlGn')"
      ]
    },
    {
      "cell_type": "code",
      "execution_count": 13,
      "metadata": {
        "colab": {
          "base_uri": "https://localhost:8080/"
        },
        "id": "W8TypkizuPcp",
        "outputId": "01d31195-2006-4f1f-a639-000d611eb46c"
      },
      "outputs": [
        {
          "output_type": "stream",
          "name": "stdout",
          "text": [
            "                     age  workclass    fnlwgt  education  education-num  \\\n",
            "age             1.000000   0.003787 -0.076646  -0.010508       0.036527   \n",
            "workclass       0.003787   1.000000 -0.016656   0.023513       0.052085   \n",
            "fnlwgt         -0.076646  -0.016656  1.000000  -0.028145      -0.043195   \n",
            "education      -0.010508   0.023513 -0.028145   1.000000       0.359153   \n",
            "education-num   0.036527   0.052085 -0.043195   0.359153       1.000000   \n",
            "marital-status -0.266288  -0.064731  0.028153  -0.038407      -0.069304   \n",
            "occupation     -0.020947   0.254892  0.001597  -0.021260       0.109697   \n",
            "relationship   -0.263698  -0.090461  0.008931  -0.010876      -0.094153   \n",
            "race            0.028718   0.049742 -0.021291   0.014131       0.031838   \n",
            "sex             0.088832   0.095981  0.026858  -0.027356       0.012280   \n",
            "capital-gain    0.077674   0.033835  0.000432   0.030046       0.122630   \n",
            "capital-loss    0.057775   0.012216 -0.010252   0.016746       0.079923   \n",
            "hours-per-week  0.068756   0.138962 -0.018768   0.055510       0.148123   \n",
            "native-country -0.001151  -0.007690 -0.051966   0.064288       0.050840   \n",
            "salary          0.234037   0.051604 -0.009463   0.079317       0.335154   \n",
            "\n",
            "                marital-status  occupation  relationship      race       sex  \\\n",
            "age                  -0.266288   -0.020947     -0.263698  0.028718  0.088832   \n",
            "workclass            -0.064731    0.254892     -0.090461  0.049742  0.095981   \n",
            "fnlwgt                0.028153    0.001597      0.008931 -0.021291  0.026858   \n",
            "education            -0.038407   -0.021260     -0.010876  0.014131 -0.027356   \n",
            "education-num        -0.069304    0.109697     -0.094153  0.031838  0.012280   \n",
            "marital-status        1.000000   -0.009654      0.185451 -0.068013 -0.129314   \n",
            "occupation           -0.009654    1.000000     -0.075607  0.006763  0.080296   \n",
            "relationship          0.185451   -0.075607      1.000000 -0.116055 -0.582454   \n",
            "race                 -0.068013    0.006763     -0.116055  1.000000  0.087204   \n",
            "sex                  -0.129314    0.080296     -0.582454  0.087204  1.000000   \n",
            "capital-gain         -0.043393    0.025505     -0.057919  0.011145  0.048480   \n",
            "capital-loss         -0.034187    0.017987     -0.061062  0.018899  0.045567   \n",
            "hours-per-week       -0.190519    0.080383     -0.248974  0.041910  0.229309   \n",
            "native-country       -0.023819   -0.012543     -0.005507  0.137852 -0.008119   \n",
            "salary               -0.199307    0.075468     -0.250918  0.071846  0.215980   \n",
            "\n",
            "                capital-gain  capital-loss  hours-per-week  native-country  \\\n",
            "age                 0.077674      0.057775        0.068756       -0.001151   \n",
            "workclass           0.033835      0.012216        0.138962       -0.007690   \n",
            "fnlwgt              0.000432     -0.010252       -0.018768       -0.051966   \n",
            "education           0.030046      0.016746        0.055510        0.064288   \n",
            "education-num       0.122630      0.079923        0.148123        0.050840   \n",
            "marital-status     -0.043393     -0.034187       -0.190519       -0.023819   \n",
            "occupation          0.025505      0.017987        0.080383       -0.012543   \n",
            "relationship       -0.057919     -0.061062       -0.248974       -0.005507   \n",
            "race                0.011145      0.018899        0.041910        0.137852   \n",
            "sex                 0.048480      0.045567        0.229309       -0.008119   \n",
            "capital-gain        1.000000     -0.031615        0.078409       -0.001982   \n",
            "capital-loss       -0.031615      1.000000        0.054256        0.000419   \n",
            "hours-per-week      0.078409      0.054256        1.000000       -0.002671   \n",
            "native-country     -0.001982      0.000419       -0.002671        1.000000   \n",
            "salary              0.223329      0.150526        0.229689        0.015840   \n",
            "\n",
            "                  salary  \n",
            "age             0.234037  \n",
            "workclass       0.051604  \n",
            "fnlwgt         -0.009463  \n",
            "education       0.079317  \n",
            "education-num   0.335154  \n",
            "marital-status -0.199307  \n",
            "occupation      0.075468  \n",
            "relationship   -0.250918  \n",
            "race            0.071846  \n",
            "sex             0.215980  \n",
            "capital-gain    0.223329  \n",
            "capital-loss    0.150526  \n",
            "hours-per-week  0.229689  \n",
            "native-country  0.015840  \n",
            "salary          1.000000  \n"
          ]
        }
      ],
      "source": [
        "# Example code for calculating correlation coefficients\n",
        "correlation_matrix = data.corr()\n",
        "print(correlation_matrix)"
      ]
    },
    {
      "cell_type": "markdown",
      "source": [
        "**Identifing predictor significance**"
      ],
      "metadata": {
        "id": "Mymt30EzMc8e"
      }
    },
    {
      "cell_type": "code",
      "execution_count": 14,
      "metadata": {
        "colab": {
          "base_uri": "https://localhost:8080/",
          "height": 579
        },
        "id": "Qv_R1uN_Y1P0",
        "outputId": "fc709088-f609-46e8-e624-2efb58d4361e"
      },
      "outputs": [
        {
          "output_type": "execute_result",
          "data": {
            "text/plain": [
              "<class 'statsmodels.iolib.summary.Summary'>\n",
              "\"\"\"\n",
              "                                 OLS Regression Results                                \n",
              "=======================================================================================\n",
              "Dep. Variable:                 salary   R-squared (uncentered):                   0.354\n",
              "Model:                            OLS   Adj. R-squared (uncentered):              0.354\n",
              "Method:                 Least Squares   F-statistic:                              2979.\n",
              "Date:                Mon, 19 Feb 2024   Prob (F-statistic):                        0.00\n",
              "Time:                        21:45:32   Log-Likelihood:                         -15898.\n",
              "No. Observations:               32561   AIC:                                  3.181e+04\n",
              "Df Residuals:                   32555   BIC:                                  3.186e+04\n",
              "Df Model:                           6                                                  \n",
              "Covariance Type:            nonrobust                                                  \n",
              "==================================================================================\n",
              "                     coef    std err          t      P>|t|      [0.025      0.975]\n",
              "----------------------------------------------------------------------------------\n",
              "age                0.0021      0.000     14.310      0.000       0.002       0.002\n",
              "fnlwgt         -3.343e-07   1.93e-08    -17.310      0.000   -3.72e-07   -2.96e-07\n",
              "education-num      0.0175      0.001     25.149      0.000       0.016       0.019\n",
              "capital-gain    1.159e-05   2.98e-07     38.952      0.000     1.1e-05    1.22e-05\n",
              "capital-loss       0.0001   5.45e-06     25.692      0.000       0.000       0.000\n",
              "hours-per-week     0.0011      0.000      6.707      0.000       0.001       0.001\n",
              "==============================================================================\n",
              "Omnibus:                     5079.230   Durbin-Watson:                   1.999\n",
              "Prob(Omnibus):                  0.000   Jarque-Bera (JB):             7687.731\n",
              "Skew:                           1.181   Prob(JB):                         0.00\n",
              "Kurtosis:                       2.700   Cond. No.                     7.00e+04\n",
              "==============================================================================\n",
              "\n",
              "Notes:\n",
              "[1] R² is computed without centering (uncentered) since the model does not contain a constant.\n",
              "[2] Standard Errors assume that the covariance matrix of the errors is correctly specified.\n",
              "[3] The condition number is large,  7e+04. This might indicate that there are\n",
              "strong multicollinearity or other numerical problems.\n",
              "\"\"\""
            ],
            "text/html": [
              "<table class=\"simpletable\">\n",
              "<caption>OLS Regression Results</caption>\n",
              "<tr>\n",
              "  <th>Dep. Variable:</th>         <td>salary</td>      <th>  R-squared (uncentered):</th>      <td>   0.354</td> \n",
              "</tr>\n",
              "<tr>\n",
              "  <th>Model:</th>                   <td>OLS</td>       <th>  Adj. R-squared (uncentered):</th> <td>   0.354</td> \n",
              "</tr>\n",
              "<tr>\n",
              "  <th>Method:</th>             <td>Least Squares</td>  <th>  F-statistic:       </th>          <td>   2979.</td> \n",
              "</tr>\n",
              "<tr>\n",
              "  <th>Date:</th>             <td>Mon, 19 Feb 2024</td> <th>  Prob (F-statistic):</th>           <td>  0.00</td>  \n",
              "</tr>\n",
              "<tr>\n",
              "  <th>Time:</th>                 <td>21:45:32</td>     <th>  Log-Likelihood:    </th>          <td> -15898.</td> \n",
              "</tr>\n",
              "<tr>\n",
              "  <th>No. Observations:</th>      <td> 32561</td>      <th>  AIC:               </th>          <td>3.181e+04</td>\n",
              "</tr>\n",
              "<tr>\n",
              "  <th>Df Residuals:</th>          <td> 32555</td>      <th>  BIC:               </th>          <td>3.186e+04</td>\n",
              "</tr>\n",
              "<tr>\n",
              "  <th>Df Model:</th>              <td>     6</td>      <th>                     </th>              <td> </td>    \n",
              "</tr>\n",
              "<tr>\n",
              "  <th>Covariance Type:</th>      <td>nonrobust</td>    <th>                     </th>              <td> </td>    \n",
              "</tr>\n",
              "</table>\n",
              "<table class=\"simpletable\">\n",
              "<tr>\n",
              "         <td></td>           <th>coef</th>     <th>std err</th>      <th>t</th>      <th>P>|t|</th>  <th>[0.025</th>    <th>0.975]</th>  \n",
              "</tr>\n",
              "<tr>\n",
              "  <th>age</th>            <td>    0.0021</td> <td>    0.000</td> <td>   14.310</td> <td> 0.000</td> <td>    0.002</td> <td>    0.002</td>\n",
              "</tr>\n",
              "<tr>\n",
              "  <th>fnlwgt</th>         <td>-3.343e-07</td> <td> 1.93e-08</td> <td>  -17.310</td> <td> 0.000</td> <td>-3.72e-07</td> <td>-2.96e-07</td>\n",
              "</tr>\n",
              "<tr>\n",
              "  <th>education-num</th>  <td>    0.0175</td> <td>    0.001</td> <td>   25.149</td> <td> 0.000</td> <td>    0.016</td> <td>    0.019</td>\n",
              "</tr>\n",
              "<tr>\n",
              "  <th>capital-gain</th>   <td> 1.159e-05</td> <td> 2.98e-07</td> <td>   38.952</td> <td> 0.000</td> <td>  1.1e-05</td> <td> 1.22e-05</td>\n",
              "</tr>\n",
              "<tr>\n",
              "  <th>capital-loss</th>   <td>    0.0001</td> <td> 5.45e-06</td> <td>   25.692</td> <td> 0.000</td> <td>    0.000</td> <td>    0.000</td>\n",
              "</tr>\n",
              "<tr>\n",
              "  <th>hours-per-week</th> <td>    0.0011</td> <td>    0.000</td> <td>    6.707</td> <td> 0.000</td> <td>    0.001</td> <td>    0.001</td>\n",
              "</tr>\n",
              "</table>\n",
              "<table class=\"simpletable\">\n",
              "<tr>\n",
              "  <th>Omnibus:</th>       <td>5079.230</td> <th>  Durbin-Watson:     </th> <td>   1.999</td>\n",
              "</tr>\n",
              "<tr>\n",
              "  <th>Prob(Omnibus):</th>  <td> 0.000</td>  <th>  Jarque-Bera (JB):  </th> <td>7687.731</td>\n",
              "</tr>\n",
              "<tr>\n",
              "  <th>Skew:</th>           <td> 1.181</td>  <th>  Prob(JB):          </th> <td>    0.00</td>\n",
              "</tr>\n",
              "<tr>\n",
              "  <th>Kurtosis:</th>       <td> 2.700</td>  <th>  Cond. No.          </th> <td>7.00e+04</td>\n",
              "</tr>\n",
              "</table><br/><br/>Notes:<br/>[1] R² is computed without centering (uncentered) since the model does not contain a constant.<br/>[2] Standard Errors assume that the covariance matrix of the errors is correctly specified.<br/>[3] The condition number is large,  7e+04. This might indicate that there are<br/>strong multicollinearity or other numerical problems."
            ],
            "text/latex": "\\begin{center}\n\\begin{tabular}{lclc}\n\\toprule\n\\textbf{Dep. Variable:}    &      salary      & \\textbf{  R-squared (uncentered):}      &     0.354   \\\\\n\\textbf{Model:}            &       OLS        & \\textbf{  Adj. R-squared (uncentered):} &     0.354   \\\\\n\\textbf{Method:}           &  Least Squares   & \\textbf{  F-statistic:       }          &     2979.   \\\\\n\\textbf{Date:}             & Mon, 19 Feb 2024 & \\textbf{  Prob (F-statistic):}          &     0.00    \\\\\n\\textbf{Time:}             &     21:45:32     & \\textbf{  Log-Likelihood:    }          &   -15898.   \\\\\n\\textbf{No. Observations:} &       32561      & \\textbf{  AIC:               }          & 3.181e+04   \\\\\n\\textbf{Df Residuals:}     &       32555      & \\textbf{  BIC:               }          & 3.186e+04   \\\\\n\\textbf{Df Model:}         &           6      & \\textbf{                     }          &             \\\\\n\\textbf{Covariance Type:}  &    nonrobust     & \\textbf{                     }          &             \\\\\n\\bottomrule\n\\end{tabular}\n\\begin{tabular}{lcccccc}\n                        & \\textbf{coef} & \\textbf{std err} & \\textbf{t} & \\textbf{P$> |$t$|$} & \\textbf{[0.025} & \\textbf{0.975]}  \\\\\n\\midrule\n\\textbf{age}            &       0.0021  &        0.000     &    14.310  &         0.000        &        0.002    &        0.002     \\\\\n\\textbf{fnlwgt}         &   -3.343e-07  &     1.93e-08     &   -17.310  &         0.000        &    -3.72e-07    &    -2.96e-07     \\\\\n\\textbf{education-num}  &       0.0175  &        0.001     &    25.149  &         0.000        &        0.016    &        0.019     \\\\\n\\textbf{capital-gain}   &    1.159e-05  &     2.98e-07     &    38.952  &         0.000        &      1.1e-05    &     1.22e-05     \\\\\n\\textbf{capital-loss}   &       0.0001  &     5.45e-06     &    25.692  &         0.000        &        0.000    &        0.000     \\\\\n\\textbf{hours-per-week} &       0.0011  &        0.000     &     6.707  &         0.000        &        0.001    &        0.001     \\\\\n\\bottomrule\n\\end{tabular}\n\\begin{tabular}{lclc}\n\\textbf{Omnibus:}       & 5079.230 & \\textbf{  Durbin-Watson:     } &    1.999  \\\\\n\\textbf{Prob(Omnibus):} &   0.000  & \\textbf{  Jarque-Bera (JB):  } & 7687.731  \\\\\n\\textbf{Skew:}          &   1.181  & \\textbf{  Prob(JB):          } &     0.00  \\\\\n\\textbf{Kurtosis:}      &   2.700  & \\textbf{  Cond. No.          } & 7.00e+04  \\\\\n\\bottomrule\n\\end{tabular}\n%\\caption{OLS Regression Results}\n\\end{center}\n\nNotes: \\newline\n [1] R² is computed without centering (uncentered) since the model does not contain a constant. \\newline\n [2] Standard Errors assume that the covariance matrix of the errors is correctly specified. \\newline\n [3] The condition number is large,  7e+04. This might indicate that there are \\newline\n strong multicollinearity or other numerical problems."
          },
          "metadata": {},
          "execution_count": 14
        }
      ],
      "source": [
        "#Using OLS for finding the p value to check the significant features\n",
        "import statsmodels.api as sm\n",
        "\n",
        "model = sm.OLS(data['salary'], data[['age', 'fnlwgt', 'education-num', 'capital-gain',\n",
        "       'capital-loss', 'hours-per-week']]).fit()\n",
        "\n",
        "# Print out the statistics\n",
        "model.summary()"
      ]
    },
    {
      "cell_type": "markdown",
      "source": [
        "**Feature selection using Random Forest Classifier**"
      ],
      "metadata": {
        "id": "MBQeQbqAMlwg"
      }
    },
    {
      "cell_type": "code",
      "source": [
        "# Feature importance using Random Forest\n",
        "from sklearn.ensemble import RandomForestClassifier\n",
        "\n",
        "X = data.drop(columns=['salary'])\n",
        "y = data['salary']\n",
        "model = RandomForestClassifier()\n",
        "model.fit(X, y)\n",
        "feature_importance = pd.Series(model.feature_importances_, index=X.columns).sort_values(ascending=False)\n",
        "print(\"\\nFeature Importance from Random Forest:\")\n",
        "print(feature_importance)"
      ],
      "metadata": {
        "colab": {
          "base_uri": "https://localhost:8080/"
        },
        "id": "n8lxIiB8FW8U",
        "outputId": "9c8f82b3-f6ba-4f40-bab1-1ad04ba81088"
      },
      "execution_count": 15,
      "outputs": [
        {
          "output_type": "stream",
          "name": "stdout",
          "text": [
            "\n",
            "Feature Importance from Random Forest:\n",
            "fnlwgt            0.172024\n",
            "age               0.148523\n",
            "capital-gain      0.116986\n",
            "relationship      0.101558\n",
            "education-num     0.087759\n",
            "hours-per-week    0.084802\n",
            "occupation        0.067066\n",
            "marital-status    0.065470\n",
            "workclass         0.039012\n",
            "capital-loss      0.037085\n",
            "education         0.033868\n",
            "native-country    0.016878\n",
            "sex               0.014931\n",
            "race              0.014036\n",
            "dtype: float64\n"
          ]
        }
      ]
    },
    {
      "cell_type": "code",
      "source": [
        "# Split the dataset into training and test sets\n",
        "from sklearn.model_selection import train_test_split\n",
        "\n",
        "X_train, X_test, y_train, y_test = train_test_split(X, y, test_size=0.2, random_state=42)\n",
        "\n",
        "# Check if training and test sets have the same data\n",
        "print(\"Training Set:\")\n",
        "print(X_train.describe())\n",
        "print(\"\\nTest Set:\")\n",
        "print(X_test.describe())"
      ],
      "metadata": {
        "colab": {
          "base_uri": "https://localhost:8080/"
        },
        "id": "-gNts_lqJMYF",
        "outputId": "4aad69c1-3fb6-4093-d842-0fe8b2e70e10"
      },
      "execution_count": 16,
      "outputs": [
        {
          "output_type": "stream",
          "name": "stdout",
          "text": [
            "Training Set:\n",
            "                age     workclass        fnlwgt     education  education-num  \\\n",
            "count  26048.000000  26048.000000  2.604800e+04  26048.000000   26048.000000   \n",
            "mean      38.576513      3.871314  1.897592e+05     10.287853      10.080544   \n",
            "std       13.642904      1.454505  1.052329e+05      3.871331       2.575202   \n",
            "min       17.000000      0.000000  1.228500e+04      0.000000       1.000000   \n",
            "25%       28.000000      4.000000  1.179630e+05      9.000000       9.000000   \n",
            "50%       37.000000      4.000000  1.782635e+05     11.000000      10.000000   \n",
            "75%       48.000000      4.000000  2.370065e+05     12.000000      12.000000   \n",
            "max       90.000000      8.000000  1.484705e+06     15.000000      16.000000   \n",
            "\n",
            "       marital-status    occupation  relationship          race           sex  \\\n",
            "count    26048.000000  26048.000000  26048.000000  26048.000000  26048.000000   \n",
            "mean         2.612677      6.573633      1.442030      3.663544      0.668113   \n",
            "std          1.502321      4.227614      1.605559      0.850053      0.470900   \n",
            "min          0.000000      0.000000      0.000000      0.000000      0.000000   \n",
            "25%          2.000000      3.000000      0.000000      4.000000      0.000000   \n",
            "50%          2.000000      7.000000      1.000000      4.000000      1.000000   \n",
            "75%          4.000000     10.000000      3.000000      4.000000      1.000000   \n",
            "max          6.000000     14.000000      5.000000      4.000000      1.000000   \n",
            "\n",
            "       capital-gain  capital-loss  hours-per-week  native-country  \n",
            "count  26048.000000  26048.000000    26048.000000    26048.000000  \n",
            "mean    1053.617437     87.988828       40.388552       36.706926  \n",
            "std     7230.800656    403.629787       12.331139        7.831215  \n",
            "min        0.000000      0.000000        1.000000        0.000000  \n",
            "25%        0.000000      0.000000       40.000000       39.000000  \n",
            "50%        0.000000      0.000000       40.000000       39.000000  \n",
            "75%        0.000000      0.000000       45.000000       39.000000  \n",
            "max    99999.000000   4356.000000       99.000000       41.000000  \n",
            "\n",
            "Test Set:\n",
            "               age    workclass        fnlwgt    education  education-num  \\\n",
            "count  6513.000000  6513.000000  6.513000e+03  6513.000000    6513.000000   \n",
            "mean     38.602180     3.859205  1.898551e+05    10.339628      10.081222   \n",
            "std      13.631572     1.461835  1.068169e+05     3.866013       2.562967   \n",
            "min      17.000000     0.000000  1.487800e+04     0.000000       1.000000   \n",
            "25%      28.000000     4.000000  1.175070e+05     9.000000       9.000000   \n",
            "50%      37.000000     4.000000  1.790130e+05    11.000000      10.000000   \n",
            "75%      48.000000     4.000000  2.373170e+05    12.000000      12.000000   \n",
            "max      90.000000     8.000000  1.268339e+06    15.000000      16.000000   \n",
            "\n",
            "       marital-status   occupation  relationship         race          sex  \\\n",
            "count     6513.000000  6513.000000   6513.000000  6513.000000  6513.000000   \n",
            "mean         2.608475     6.569169      1.463688     3.675111     0.673576   \n",
            "std          1.521832     4.234146      1.611616     0.843800     0.468940   \n",
            "min          0.000000     0.000000      0.000000     0.000000     0.000000   \n",
            "25%          2.000000     3.000000      0.000000     4.000000     0.000000   \n",
            "50%          2.000000     7.000000      1.000000     4.000000     1.000000   \n",
            "75%          4.000000    10.000000      3.000000     4.000000     1.000000   \n",
            "max          6.000000    14.000000      5.000000     4.000000     1.000000   \n",
            "\n",
            "       capital-gain  capital-loss  hours-per-week  native-country  \n",
            "count   6513.000000   6513.000000     6513.000000     6513.000000  \n",
            "mean    1173.759711     84.564256       40.633042       36.766621  \n",
            "std     7973.158945    400.290275       12.411387        7.794399  \n",
            "min        0.000000      0.000000        1.000000        0.000000  \n",
            "25%        0.000000      0.000000       40.000000       39.000000  \n",
            "50%        0.000000      0.000000       40.000000       39.000000  \n",
            "75%        0.000000      0.000000       45.000000       39.000000  \n",
            "max    99999.000000   4356.000000       99.000000       41.000000  \n"
          ]
        }
      ]
    },
    {
      "cell_type": "markdown",
      "source": [
        "**IMPUTATION METHOD**"
      ],
      "metadata": {
        "id": "wUis2wfGIlW2"
      }
    },
    {
      "cell_type": "code",
      "source": [
        "#Imputation Method using KNN(K Nearest Neighbors)\n",
        "import pandas as pd\n",
        "from sklearn.impute import KNNImputer\n",
        "from sklearn.preprocessing import LabelEncoder\n",
        "\n",
        "\n",
        "data = pd.DataFrame(data)\n",
        "\n",
        "# Encode categorical variables if necessary\n",
        "label_encoders = {}\n",
        "for column in data.select_dtypes(include=['object']).columns:\n",
        "    label_encoders[column] = LabelEncoder()\n",
        "    df[column] = label_encoders[column].fit_transform(df[column])\n",
        "\n",
        "# Perform KNN imputation\n",
        "imputer = KNNImputer(n_neighbors=5)\n",
        "imputed_data = imputer.fit_transform(data)\n",
        "\n",
        "# Convert back to DataFrame\n",
        "imputed_data = pd.DataFrame(imputed_data, columns=data.columns)\n",
        "\n",
        "# Decode categorical variables if necessary\n",
        "for column in imputed_data.select_dtypes(include=['int']).columns:\n",
        "    if column in label_encoders:\n",
        "        imputed_data[column] = label_encoders[column].inverse_transform(imputed_data[column].astype(int))\n",
        "\n",
        "# Now, imputed_df contains your dataset with missing values filled in using KNN imputation\n"
      ],
      "metadata": {
        "id": "eCUSaHhNFkHA"
      },
      "execution_count": 20,
      "outputs": []
    },
    {
      "cell_type": "markdown",
      "source": [
        "**CALCULATING ACCURACY AND CONFUSION MATRIX**"
      ],
      "metadata": {
        "id": "b3rkwHNMIoXB"
      }
    },
    {
      "cell_type": "code",
      "source": [
        "from sklearn.metrics import accuracy_score, confusion_matrix\n",
        "\n",
        "# Example: Calculate accuracy and confusion matrix for 'workclass'\n",
        "predicted_values = model.predict(X_test)  # Assuming 'model' is your trained model and X_test is your test data\n",
        "\n",
        "accuracy = accuracy_score(y_test, predicted_values)  # Assuming 'y_test' is the true labels for the test set\n",
        "conf_matrix = confusion_matrix(y_test, predicted_values)  # Assuming 'y_test' is the true labels for the test set\n",
        "\n",
        "print(\"Accuracy:\", accuracy)\n",
        "print(\"Confusion Matrix:\")\n",
        "print(conf_matrix)"
      ],
      "metadata": {
        "colab": {
          "base_uri": "https://localhost:8080/"
        },
        "id": "sl5coqvsF3R1",
        "outputId": "5e6c21d1-e612-4c51-e20c-e4442afd321b"
      },
      "execution_count": 21,
      "outputs": [
        {
          "output_type": "stream",
          "name": "stdout",
          "text": [
            "Accuracy: 0.9998464609243052\n",
            "Confusion Matrix:\n",
            "[[4942    0]\n",
            " [   1 1570]]\n"
          ]
        }
      ]
    },
    {
      "cell_type": "code",
      "execution_count": 22,
      "metadata": {
        "id": "G1clzEOWYscY"
      },
      "outputs": [],
      "source": [
        "df = data[['age', 'fnlwgt', 'education-num', 'capital-gain',\n",
        "       'capital-loss', 'hours-per-week']].dropna() #subset the dataframe"
      ]
    },
    {
      "cell_type": "markdown",
      "metadata": {
        "id": "AFX8qDMrZtnt"
      },
      "source": [
        "**VIF(multicollinearity)**"
      ]
    },
    {
      "cell_type": "code",
      "execution_count": 23,
      "metadata": {
        "colab": {
          "base_uri": "https://localhost:8080/"
        },
        "id": "aESj6JRdZkLh",
        "outputId": "27d33264-60ab-4490-a2d1-0e0190178cc3"
      },
      "outputs": [
        {
          "output_type": "stream",
          "name": "stdout",
          "text": [
            "          feature        VIF\n",
            "0             age   7.246475\n",
            "1          fnlwgt   3.683144\n",
            "2   education-num  10.983289\n",
            "3    capital-gain   1.032987\n",
            "4    capital-loss   1.056815\n",
            "5  hours-per-week   9.758094\n"
          ]
        }
      ],
      "source": [
        "# the independent variables set\n",
        "X = data[['age', 'fnlwgt', 'education-num', 'capital-gain',\n",
        "       'capital-loss', 'hours-per-week']]\n",
        "\n",
        "# VIF dataframe\n",
        "vif_data = pd.DataFrame()\n",
        "vif_data[\"feature\"] = X.columns\n",
        "\n",
        "# calculating VIF for each feature\n",
        "vif_data[\"VIF\"] = [variance_inflation_factor(X.values, i)\n",
        "                          for i in range(len(X.columns))]\n",
        "\n",
        "print(vif_data)"
      ]
    },
    {
      "cell_type": "markdown",
      "source": [
        "**REGULARIZATION**"
      ],
      "metadata": {
        "id": "wLompUI5CLLD"
      }
    },
    {
      "cell_type": "code",
      "execution_count": 24,
      "metadata": {
        "id": "7Ezrsoo1cWEM"
      },
      "outputs": [],
      "source": [
        "X = data[['age', 'fnlwgt', 'education-num', 'capital-gain',\n",
        "       'capital-loss', 'hours-per-week']]\n",
        "\n",
        "y = data['salary']\n",
        "\n",
        "#Spliting data into Training 70%, Test set 30%\n",
        "\n",
        "X_train, X_test, y_train, y_test = train_test_split(X, y, test_size=0.3, random_state=1)"
      ]
    },
    {
      "cell_type": "code",
      "execution_count": 27,
      "metadata": {
        "colab": {
          "base_uri": "https://localhost:8080/",
          "height": 74
        },
        "id": "FV4MJ1bBclyq",
        "outputId": "65cfbb5b-04a5-4479-c195-764186784316"
      },
      "outputs": [
        {
          "output_type": "execute_result",
          "data": {
            "text/plain": [
              "Ridge(alpha=0.5)"
            ],
            "text/html": [
              "<style>#sk-container-id-2 {color: black;background-color: white;}#sk-container-id-2 pre{padding: 0;}#sk-container-id-2 div.sk-toggleable {background-color: white;}#sk-container-id-2 label.sk-toggleable__label {cursor: pointer;display: block;width: 100%;margin-bottom: 0;padding: 0.3em;box-sizing: border-box;text-align: center;}#sk-container-id-2 label.sk-toggleable__label-arrow:before {content: \"▸\";float: left;margin-right: 0.25em;color: #696969;}#sk-container-id-2 label.sk-toggleable__label-arrow:hover:before {color: black;}#sk-container-id-2 div.sk-estimator:hover label.sk-toggleable__label-arrow:before {color: black;}#sk-container-id-2 div.sk-toggleable__content {max-height: 0;max-width: 0;overflow: hidden;text-align: left;background-color: #f0f8ff;}#sk-container-id-2 div.sk-toggleable__content pre {margin: 0.2em;color: black;border-radius: 0.25em;background-color: #f0f8ff;}#sk-container-id-2 input.sk-toggleable__control:checked~div.sk-toggleable__content {max-height: 200px;max-width: 100%;overflow: auto;}#sk-container-id-2 input.sk-toggleable__control:checked~label.sk-toggleable__label-arrow:before {content: \"▾\";}#sk-container-id-2 div.sk-estimator input.sk-toggleable__control:checked~label.sk-toggleable__label {background-color: #d4ebff;}#sk-container-id-2 div.sk-label input.sk-toggleable__control:checked~label.sk-toggleable__label {background-color: #d4ebff;}#sk-container-id-2 input.sk-hidden--visually {border: 0;clip: rect(1px 1px 1px 1px);clip: rect(1px, 1px, 1px, 1px);height: 1px;margin: -1px;overflow: hidden;padding: 0;position: absolute;width: 1px;}#sk-container-id-2 div.sk-estimator {font-family: monospace;background-color: #f0f8ff;border: 1px dotted black;border-radius: 0.25em;box-sizing: border-box;margin-bottom: 0.5em;}#sk-container-id-2 div.sk-estimator:hover {background-color: #d4ebff;}#sk-container-id-2 div.sk-parallel-item::after {content: \"\";width: 100%;border-bottom: 1px solid gray;flex-grow: 1;}#sk-container-id-2 div.sk-label:hover label.sk-toggleable__label {background-color: #d4ebff;}#sk-container-id-2 div.sk-serial::before {content: \"\";position: absolute;border-left: 1px solid gray;box-sizing: border-box;top: 0;bottom: 0;left: 50%;z-index: 0;}#sk-container-id-2 div.sk-serial {display: flex;flex-direction: column;align-items: center;background-color: white;padding-right: 0.2em;padding-left: 0.2em;position: relative;}#sk-container-id-2 div.sk-item {position: relative;z-index: 1;}#sk-container-id-2 div.sk-parallel {display: flex;align-items: stretch;justify-content: center;background-color: white;position: relative;}#sk-container-id-2 div.sk-item::before, #sk-container-id-2 div.sk-parallel-item::before {content: \"\";position: absolute;border-left: 1px solid gray;box-sizing: border-box;top: 0;bottom: 0;left: 50%;z-index: -1;}#sk-container-id-2 div.sk-parallel-item {display: flex;flex-direction: column;z-index: 1;position: relative;background-color: white;}#sk-container-id-2 div.sk-parallel-item:first-child::after {align-self: flex-end;width: 50%;}#sk-container-id-2 div.sk-parallel-item:last-child::after {align-self: flex-start;width: 50%;}#sk-container-id-2 div.sk-parallel-item:only-child::after {width: 0;}#sk-container-id-2 div.sk-dashed-wrapped {border: 1px dashed gray;margin: 0 0.4em 0.5em 0.4em;box-sizing: border-box;padding-bottom: 0.4em;background-color: white;}#sk-container-id-2 div.sk-label label {font-family: monospace;font-weight: bold;display: inline-block;line-height: 1.2em;}#sk-container-id-2 div.sk-label-container {text-align: center;}#sk-container-id-2 div.sk-container {/* jupyter's `normalize.less` sets `[hidden] { display: none; }` but bootstrap.min.css set `[hidden] { display: none !important; }` so we also need the `!important` here to be able to override the default hidden behavior on the sphinx rendered scikit-learn.org. See: https://github.com/scikit-learn/scikit-learn/issues/21755 */display: inline-block !important;position: relative;}#sk-container-id-2 div.sk-text-repr-fallback {display: none;}</style><div id=\"sk-container-id-2\" class=\"sk-top-container\"><div class=\"sk-text-repr-fallback\"><pre>Ridge(alpha=0.5)</pre><b>In a Jupyter environment, please rerun this cell to show the HTML representation or trust the notebook. <br />On GitHub, the HTML representation is unable to render, please try loading this page with nbviewer.org.</b></div><div class=\"sk-container\" hidden><div class=\"sk-item\"><div class=\"sk-estimator sk-toggleable\"><input class=\"sk-toggleable__control sk-hidden--visually\" id=\"sk-estimator-id-2\" type=\"checkbox\" checked><label for=\"sk-estimator-id-2\" class=\"sk-toggleable__label sk-toggleable__label-arrow\">Ridge</label><div class=\"sk-toggleable__content\"><pre>Ridge(alpha=0.5)</pre></div></div></div></div></div>"
            ]
          },
          "metadata": {},
          "execution_count": 27
        }
      ],
      "source": [
        "# Ridge regression with an alpha of 0.5\n",
        "ridge = Ridge(fit_intercept=True, alpha=0.5)\n",
        "ridge.fit(X_train, y_train)"
      ]
    },
    {
      "cell_type": "code",
      "source": [
        "from sklearn.model_selection import GridSearchCV\n",
        "\n",
        "# Define the parameter grid\n",
        "param_grid = {'alpha': [0.001, 0.01, 0.1, 0.5, 1.0, 10.0, 100.0]}\n",
        "\n",
        "# Instantiate the Ridge regression model\n",
        "ridge = Ridge(fit_intercept=True)\n",
        "\n",
        "# Perform GridSearchCV\n",
        "grid_search = GridSearchCV(ridge, param_grid, cv=5, scoring='neg_mean_squared_error')\n",
        "grid_search.fit(X_train, y_train)\n",
        "\n",
        "# Get the best alpha value\n",
        "best_alpha = grid_search.best_params_['alpha']\n",
        "print(\"Best alpha:\", best_alpha)\n",
        "\n",
        "# Fit Ridge regression with the best alpha\n",
        "best_ridge = Ridge(alpha=best_alpha, fit_intercept=True)\n",
        "best_ridge.fit(X_train, y_train)\n"
      ],
      "metadata": {
        "colab": {
          "base_uri": "https://localhost:8080/",
          "height": 91
        },
        "id": "DBiyTWasO6KO",
        "outputId": "853f6375-99fd-4c03-944e-32eaaaa6ecdd"
      },
      "execution_count": 44,
      "outputs": [
        {
          "output_type": "stream",
          "name": "stdout",
          "text": [
            "Best alpha: 0.001\n"
          ]
        },
        {
          "output_type": "execute_result",
          "data": {
            "text/plain": [
              "Ridge(alpha=0.001)"
            ],
            "text/html": [
              "<style>#sk-container-id-3 {color: black;background-color: white;}#sk-container-id-3 pre{padding: 0;}#sk-container-id-3 div.sk-toggleable {background-color: white;}#sk-container-id-3 label.sk-toggleable__label {cursor: pointer;display: block;width: 100%;margin-bottom: 0;padding: 0.3em;box-sizing: border-box;text-align: center;}#sk-container-id-3 label.sk-toggleable__label-arrow:before {content: \"▸\";float: left;margin-right: 0.25em;color: #696969;}#sk-container-id-3 label.sk-toggleable__label-arrow:hover:before {color: black;}#sk-container-id-3 div.sk-estimator:hover label.sk-toggleable__label-arrow:before {color: black;}#sk-container-id-3 div.sk-toggleable__content {max-height: 0;max-width: 0;overflow: hidden;text-align: left;background-color: #f0f8ff;}#sk-container-id-3 div.sk-toggleable__content pre {margin: 0.2em;color: black;border-radius: 0.25em;background-color: #f0f8ff;}#sk-container-id-3 input.sk-toggleable__control:checked~div.sk-toggleable__content {max-height: 200px;max-width: 100%;overflow: auto;}#sk-container-id-3 input.sk-toggleable__control:checked~label.sk-toggleable__label-arrow:before {content: \"▾\";}#sk-container-id-3 div.sk-estimator input.sk-toggleable__control:checked~label.sk-toggleable__label {background-color: #d4ebff;}#sk-container-id-3 div.sk-label input.sk-toggleable__control:checked~label.sk-toggleable__label {background-color: #d4ebff;}#sk-container-id-3 input.sk-hidden--visually {border: 0;clip: rect(1px 1px 1px 1px);clip: rect(1px, 1px, 1px, 1px);height: 1px;margin: -1px;overflow: hidden;padding: 0;position: absolute;width: 1px;}#sk-container-id-3 div.sk-estimator {font-family: monospace;background-color: #f0f8ff;border: 1px dotted black;border-radius: 0.25em;box-sizing: border-box;margin-bottom: 0.5em;}#sk-container-id-3 div.sk-estimator:hover {background-color: #d4ebff;}#sk-container-id-3 div.sk-parallel-item::after {content: \"\";width: 100%;border-bottom: 1px solid gray;flex-grow: 1;}#sk-container-id-3 div.sk-label:hover label.sk-toggleable__label {background-color: #d4ebff;}#sk-container-id-3 div.sk-serial::before {content: \"\";position: absolute;border-left: 1px solid gray;box-sizing: border-box;top: 0;bottom: 0;left: 50%;z-index: 0;}#sk-container-id-3 div.sk-serial {display: flex;flex-direction: column;align-items: center;background-color: white;padding-right: 0.2em;padding-left: 0.2em;position: relative;}#sk-container-id-3 div.sk-item {position: relative;z-index: 1;}#sk-container-id-3 div.sk-parallel {display: flex;align-items: stretch;justify-content: center;background-color: white;position: relative;}#sk-container-id-3 div.sk-item::before, #sk-container-id-3 div.sk-parallel-item::before {content: \"\";position: absolute;border-left: 1px solid gray;box-sizing: border-box;top: 0;bottom: 0;left: 50%;z-index: -1;}#sk-container-id-3 div.sk-parallel-item {display: flex;flex-direction: column;z-index: 1;position: relative;background-color: white;}#sk-container-id-3 div.sk-parallel-item:first-child::after {align-self: flex-end;width: 50%;}#sk-container-id-3 div.sk-parallel-item:last-child::after {align-self: flex-start;width: 50%;}#sk-container-id-3 div.sk-parallel-item:only-child::after {width: 0;}#sk-container-id-3 div.sk-dashed-wrapped {border: 1px dashed gray;margin: 0 0.4em 0.5em 0.4em;box-sizing: border-box;padding-bottom: 0.4em;background-color: white;}#sk-container-id-3 div.sk-label label {font-family: monospace;font-weight: bold;display: inline-block;line-height: 1.2em;}#sk-container-id-3 div.sk-label-container {text-align: center;}#sk-container-id-3 div.sk-container {/* jupyter's `normalize.less` sets `[hidden] { display: none; }` but bootstrap.min.css set `[hidden] { display: none !important; }` so we also need the `!important` here to be able to override the default hidden behavior on the sphinx rendered scikit-learn.org. See: https://github.com/scikit-learn/scikit-learn/issues/21755 */display: inline-block !important;position: relative;}#sk-container-id-3 div.sk-text-repr-fallback {display: none;}</style><div id=\"sk-container-id-3\" class=\"sk-top-container\"><div class=\"sk-text-repr-fallback\"><pre>Ridge(alpha=0.001)</pre><b>In a Jupyter environment, please rerun this cell to show the HTML representation or trust the notebook. <br />On GitHub, the HTML representation is unable to render, please try loading this page with nbviewer.org.</b></div><div class=\"sk-container\" hidden><div class=\"sk-item\"><div class=\"sk-estimator sk-toggleable\"><input class=\"sk-toggleable__control sk-hidden--visually\" id=\"sk-estimator-id-3\" type=\"checkbox\" checked><label for=\"sk-estimator-id-3\" class=\"sk-toggleable__label sk-toggleable__label-arrow\">Ridge</label><div class=\"sk-toggleable__content\"><pre>Ridge(alpha=0.001)</pre></div></div></div></div></div>"
            ]
          },
          "metadata": {},
          "execution_count": 44
        }
      ]
    },
    {
      "cell_type": "code",
      "execution_count": 28,
      "metadata": {
        "colab": {
          "base_uri": "https://localhost:8080/"
        },
        "id": "XX4NZWHOcpZH",
        "outputId": "0697be79-e059-48ed-f7d4-5b0da1212cec"
      },
      "outputs": [
        {
          "output_type": "execute_result",
          "data": {
            "text/plain": [
              "0.36920128969889765"
            ]
          },
          "metadata": {},
          "execution_count": 28
        }
      ],
      "source": [
        "# rmse after regularization\n",
        "y_pred = ridge.predict(X_test)\n",
        "\n",
        "rmse = np.sqrt(metrics.mean_squared_error(y_test, y_pred))\n",
        "rmse"
      ]
    },
    {
      "cell_type": "code",
      "execution_count": 29,
      "metadata": {
        "colab": {
          "base_uri": "https://localhost:8080/"
        },
        "id": "S9VZteZPctGp",
        "outputId": "89e204c2-eb4f-428d-80a6-3e7a36a8a0d0"
      },
      "outputs": [
        {
          "output_type": "stream",
          "name": "stdout",
          "text": [
            "Parse progress: |████████████████████████████████████████████████████████████████| (done) 100%\n"
          ]
        }
      ],
      "source": [
        "data = h2o.H2OFrame(data)"
      ]
    },
    {
      "cell_type": "code",
      "execution_count": 30,
      "metadata": {
        "colab": {
          "base_uri": "https://localhost:8080/",
          "height": 402
        },
        "id": "AWfj0dlucxwS",
        "outputId": "ac75210c-fc3f-4bae-dd4e-8b59d089bc2b"
      },
      "outputs": [
        {
          "output_type": "execute_result",
          "data": {
            "text/plain": [
              "  age    workclass    fnlwgt    education    education-num    marital-status    occupation    relationship    race    sex    capital-gain    capital-loss    hours-per-week    native-country    salary\n",
              "-----  -----------  --------  -----------  ---------------  ----------------  ------------  --------------  ------  -----  --------------  --------------  ----------------  ----------------  --------\n",
              "   39            7     77516            9               13                 4             1               1       4      1            2174               0                40                39         0\n",
              "   50            6     83311            9               13                 2             4               0       4      1               0               0                13                39         0\n",
              "   38            4    215646           11                9                 0             6               1       4      1               0               0                40                39         0\n",
              "   53            4    234721            1                7                 2             6               0       2      1               0               0                40                39         0\n",
              "   28            4    338409            9               13                 2            10               5       2      0               0               0                40                 5         0\n",
              "   37            4    284582           12               14                 2             4               5       4      0               0               0                40                39         0\n",
              "   49            4    160187            6                5                 3             8               1       2      0               0               0                16                23         0\n",
              "   52            6    209642           11                9                 2             4               0       4      1               0               0                45                39         1\n",
              "   31            4     45781           12               14                 4            10               1       4      0           14084               0                50                39         1\n",
              "   42            4    159449            9               13                 2             4               0       4      1            5178               0                40                39         1\n",
              "[10 rows x 15 columns]\n"
            ],
            "text/html": [
              "<table class='dataframe'>\n",
              "<thead>\n",
              "<tr><th style=\"text-align: right;\">  age</th><th style=\"text-align: right;\">  workclass</th><th style=\"text-align: right;\">  fnlwgt</th><th style=\"text-align: right;\">  education</th><th style=\"text-align: right;\">  education-num</th><th style=\"text-align: right;\">  marital-status</th><th style=\"text-align: right;\">  occupation</th><th style=\"text-align: right;\">  relationship</th><th style=\"text-align: right;\">  race</th><th style=\"text-align: right;\">  sex</th><th style=\"text-align: right;\">  capital-gain</th><th style=\"text-align: right;\">  capital-loss</th><th style=\"text-align: right;\">  hours-per-week</th><th style=\"text-align: right;\">  native-country</th><th style=\"text-align: right;\">  salary</th></tr>\n",
              "</thead>\n",
              "<tbody>\n",
              "<tr><td style=\"text-align: right;\">   39</td><td style=\"text-align: right;\">          7</td><td style=\"text-align: right;\">   77516</td><td style=\"text-align: right;\">          9</td><td style=\"text-align: right;\">             13</td><td style=\"text-align: right;\">               4</td><td style=\"text-align: right;\">           1</td><td style=\"text-align: right;\">             1</td><td style=\"text-align: right;\">     4</td><td style=\"text-align: right;\">    1</td><td style=\"text-align: right;\">          2174</td><td style=\"text-align: right;\">             0</td><td style=\"text-align: right;\">              40</td><td style=\"text-align: right;\">              39</td><td style=\"text-align: right;\">       0</td></tr>\n",
              "<tr><td style=\"text-align: right;\">   50</td><td style=\"text-align: right;\">          6</td><td style=\"text-align: right;\">   83311</td><td style=\"text-align: right;\">          9</td><td style=\"text-align: right;\">             13</td><td style=\"text-align: right;\">               2</td><td style=\"text-align: right;\">           4</td><td style=\"text-align: right;\">             0</td><td style=\"text-align: right;\">     4</td><td style=\"text-align: right;\">    1</td><td style=\"text-align: right;\">             0</td><td style=\"text-align: right;\">             0</td><td style=\"text-align: right;\">              13</td><td style=\"text-align: right;\">              39</td><td style=\"text-align: right;\">       0</td></tr>\n",
              "<tr><td style=\"text-align: right;\">   38</td><td style=\"text-align: right;\">          4</td><td style=\"text-align: right;\">  215646</td><td style=\"text-align: right;\">         11</td><td style=\"text-align: right;\">              9</td><td style=\"text-align: right;\">               0</td><td style=\"text-align: right;\">           6</td><td style=\"text-align: right;\">             1</td><td style=\"text-align: right;\">     4</td><td style=\"text-align: right;\">    1</td><td style=\"text-align: right;\">             0</td><td style=\"text-align: right;\">             0</td><td style=\"text-align: right;\">              40</td><td style=\"text-align: right;\">              39</td><td style=\"text-align: right;\">       0</td></tr>\n",
              "<tr><td style=\"text-align: right;\">   53</td><td style=\"text-align: right;\">          4</td><td style=\"text-align: right;\">  234721</td><td style=\"text-align: right;\">          1</td><td style=\"text-align: right;\">              7</td><td style=\"text-align: right;\">               2</td><td style=\"text-align: right;\">           6</td><td style=\"text-align: right;\">             0</td><td style=\"text-align: right;\">     2</td><td style=\"text-align: right;\">    1</td><td style=\"text-align: right;\">             0</td><td style=\"text-align: right;\">             0</td><td style=\"text-align: right;\">              40</td><td style=\"text-align: right;\">              39</td><td style=\"text-align: right;\">       0</td></tr>\n",
              "<tr><td style=\"text-align: right;\">   28</td><td style=\"text-align: right;\">          4</td><td style=\"text-align: right;\">  338409</td><td style=\"text-align: right;\">          9</td><td style=\"text-align: right;\">             13</td><td style=\"text-align: right;\">               2</td><td style=\"text-align: right;\">          10</td><td style=\"text-align: right;\">             5</td><td style=\"text-align: right;\">     2</td><td style=\"text-align: right;\">    0</td><td style=\"text-align: right;\">             0</td><td style=\"text-align: right;\">             0</td><td style=\"text-align: right;\">              40</td><td style=\"text-align: right;\">               5</td><td style=\"text-align: right;\">       0</td></tr>\n",
              "<tr><td style=\"text-align: right;\">   37</td><td style=\"text-align: right;\">          4</td><td style=\"text-align: right;\">  284582</td><td style=\"text-align: right;\">         12</td><td style=\"text-align: right;\">             14</td><td style=\"text-align: right;\">               2</td><td style=\"text-align: right;\">           4</td><td style=\"text-align: right;\">             5</td><td style=\"text-align: right;\">     4</td><td style=\"text-align: right;\">    0</td><td style=\"text-align: right;\">             0</td><td style=\"text-align: right;\">             0</td><td style=\"text-align: right;\">              40</td><td style=\"text-align: right;\">              39</td><td style=\"text-align: right;\">       0</td></tr>\n",
              "<tr><td style=\"text-align: right;\">   49</td><td style=\"text-align: right;\">          4</td><td style=\"text-align: right;\">  160187</td><td style=\"text-align: right;\">          6</td><td style=\"text-align: right;\">              5</td><td style=\"text-align: right;\">               3</td><td style=\"text-align: right;\">           8</td><td style=\"text-align: right;\">             1</td><td style=\"text-align: right;\">     2</td><td style=\"text-align: right;\">    0</td><td style=\"text-align: right;\">             0</td><td style=\"text-align: right;\">             0</td><td style=\"text-align: right;\">              16</td><td style=\"text-align: right;\">              23</td><td style=\"text-align: right;\">       0</td></tr>\n",
              "<tr><td style=\"text-align: right;\">   52</td><td style=\"text-align: right;\">          6</td><td style=\"text-align: right;\">  209642</td><td style=\"text-align: right;\">         11</td><td style=\"text-align: right;\">              9</td><td style=\"text-align: right;\">               2</td><td style=\"text-align: right;\">           4</td><td style=\"text-align: right;\">             0</td><td style=\"text-align: right;\">     4</td><td style=\"text-align: right;\">    1</td><td style=\"text-align: right;\">             0</td><td style=\"text-align: right;\">             0</td><td style=\"text-align: right;\">              45</td><td style=\"text-align: right;\">              39</td><td style=\"text-align: right;\">       1</td></tr>\n",
              "<tr><td style=\"text-align: right;\">   31</td><td style=\"text-align: right;\">          4</td><td style=\"text-align: right;\">   45781</td><td style=\"text-align: right;\">         12</td><td style=\"text-align: right;\">             14</td><td style=\"text-align: right;\">               4</td><td style=\"text-align: right;\">          10</td><td style=\"text-align: right;\">             1</td><td style=\"text-align: right;\">     4</td><td style=\"text-align: right;\">    0</td><td style=\"text-align: right;\">         14084</td><td style=\"text-align: right;\">             0</td><td style=\"text-align: right;\">              50</td><td style=\"text-align: right;\">              39</td><td style=\"text-align: right;\">       1</td></tr>\n",
              "<tr><td style=\"text-align: right;\">   42</td><td style=\"text-align: right;\">          4</td><td style=\"text-align: right;\">  159449</td><td style=\"text-align: right;\">          9</td><td style=\"text-align: right;\">             13</td><td style=\"text-align: right;\">               2</td><td style=\"text-align: right;\">           4</td><td style=\"text-align: right;\">             0</td><td style=\"text-align: right;\">     4</td><td style=\"text-align: right;\">    1</td><td style=\"text-align: right;\">          5178</td><td style=\"text-align: right;\">             0</td><td style=\"text-align: right;\">              40</td><td style=\"text-align: right;\">              39</td><td style=\"text-align: right;\">       1</td></tr>\n",
              "</tbody>\n",
              "</table><pre style='font-size: smaller; margin-bottom: 1em;'>[10 rows x 15 columns]</pre>"
            ]
          },
          "metadata": {},
          "execution_count": 30
        }
      ],
      "source": [
        "data.head()"
      ]
    },
    {
      "cell_type": "code",
      "execution_count": 31,
      "metadata": {
        "id": "NwADCg1nc4V8"
      },
      "outputs": [],
      "source": [
        "train, test = data.split_frame(seed = 1234, destination_frames = [\"train.hex\", \"test.hex\"])"
      ]
    },
    {
      "cell_type": "code",
      "execution_count": 32,
      "metadata": {
        "id": "NJo-7IeKc5zp"
      },
      "outputs": [],
      "source": [
        "# check the number of train set and test set\n",
        "train[\"is_train\"] = 1\n",
        "test[\"is_train\"] = 0\n",
        "\n",
        "drift_data = train.rbind(test)\n",
        "drift_data[\"is_train\"] = drift_data[\"is_train\"].asfactor()"
      ]
    },
    {
      "cell_type": "code",
      "execution_count": 33,
      "metadata": {
        "colab": {
          "base_uri": "https://localhost:8080/",
          "height": 137
        },
        "id": "pM7yTpv8c-A8",
        "outputId": "e28ca8be-f7c6-4d04-fbd7-69deb4af6cfa"
      },
      "outputs": [
        {
          "output_type": "execute_result",
          "data": {
            "text/plain": [
              "  is_train    Count\n",
              "----------  -------\n",
              "         0     8068\n",
              "         1    24493\n",
              "[2 rows x 2 columns]\n"
            ],
            "text/html": [
              "<table class='dataframe'>\n",
              "<thead>\n",
              "<tr><th style=\"text-align: right;\">  is_train</th><th style=\"text-align: right;\">  Count</th></tr>\n",
              "</thead>\n",
              "<tbody>\n",
              "<tr><td style=\"text-align: right;\">         0</td><td style=\"text-align: right;\">   8068</td></tr>\n",
              "<tr><td style=\"text-align: right;\">         1</td><td style=\"text-align: right;\">  24493</td></tr>\n",
              "</tbody>\n",
              "</table><pre style='font-size: smaller; margin-bottom: 1em;'>[2 rows x 2 columns]</pre>"
            ]
          },
          "metadata": {},
          "execution_count": 33
        }
      ],
      "source": [
        "drift_data[\"is_train\"].table()"
      ]
    },
    {
      "cell_type": "code",
      "execution_count": 40,
      "metadata": {
        "id": "eIGd1ONadEbH"
      },
      "outputs": [],
      "source": [
        "x = list(set(train.col_names) - set([\"salary\"]))"
      ]
    },
    {
      "cell_type": "code",
      "execution_count": 41,
      "metadata": {
        "colab": {
          "base_uri": "https://localhost:8080/",
          "height": 1000
        },
        "id": "y4_n3SsPdHqo",
        "outputId": "d3d0bdaf-e74c-4da4-8ddd-187eac44455f"
      },
      "outputs": [
        {
          "output_type": "stream",
          "name": "stdout",
          "text": [
            "AutoML progress: |\n",
            "21:50:43.555: _train param, Dropping bad and constant columns: [is_train]\n",
            "21:50:43.556: _response param, We have detected that your response column has only 2 unique values (0/1). If you wish to train a binary model instead of a regression model, convert your target column to categorical before training.\n",
            "21:51:29.43: _train param, Dropping bad and constant columns: [is_train]\n",
            "21:51:29.43: _response param, We have detected that your response column has only 2 unique values (0/1). If you wish to train a binary model instead of a regression model, convert your target column to categorical before training.\n",
            "21:51:32.913: _train param, Dropping bad and constant columns: [is_train]\n",
            "21:51:32.913: _response param, We have detected that your response column has only 2 unique values (0/1). If you wish to train a binary model instead of a regression model, convert your target column to categorical before training.\n",
            "21:52:10.499: _train param, Dropping bad and constant columns: [is_train]\n",
            "21:52:10.499: _response param, We have detected that your response column has only 2 unique values (0/1). If you wish to train a binary model instead of a regression model, convert your target column to categorical before training.\n",
            "21:52:26.819: _train param, Dropping bad and constant columns: [is_train]\n",
            "21:52:26.819: _response param, We have detected that your response column has only 2 unique values (0/1). If you wish to train a binary model instead of a regression model, convert your target column to categorical before training.\n",
            "21:53:06.804: _train param, Dropping bad and constant columns: [is_train]\n",
            "21:53:06.804: _response param, We have detected that your response column has only 2 unique values (0/1). If you wish to train a binary model instead of a regression model, convert your target column to categorical before training.\n",
            "21:53:22.39: _train param, Dropping bad and constant columns: [is_train]\n",
            "21:53:22.39: _response param, We have detected that your response column has only 2 unique values (0/1). If you wish to train a binary model instead of a regression model, convert your target column to categorical before training.\n",
            "21:53:42.659: _train param, Dropping bad and constant columns: [is_train]\n",
            "21:53:42.659: _response param, We have detected that your response column has only 2 unique values (0/1). If you wish to train a binary model instead of a regression model, convert your target column to categorical before training.\n",
            "21:53:59.700: _train param, Dropping bad and constant columns: [is_train]\n",
            "21:53:59.701: _response param, We have detected that your response column has only 2 unique values (0/1). If you wish to train a binary model instead of a regression model, convert your target column to categorical before training.\n",
            "21:54:11.986: _train param, Dropping bad and constant columns: [is_train]\n",
            "21:54:11.986: _response param, We have detected that your response column has only 2 unique values (0/1). If you wish to train a binary model instead of a regression model, convert your target column to categorical before training.\n",
            "21:54:55.339: _train param, Dropping unused columns: [is_train]\n",
            "21:54:55.339: _response param, We have detected that your response column has only 2 unique values (0/1). If you wish to train a binary model instead of a regression model, convert your target column to categorical before training.\n",
            "21:54:59.519: _train param, Dropping unused columns: [is_train]\n",
            "21:54:59.519: _response param, We have detected that your response column has only 2 unique values (0/1). If you wish to train a binary model instead of a regression model, convert your target column to categorical before training.\n",
            "01:21:26.830: New models will be added to existing leaderboard random_split@@salary (leaderboard frame=null) with already 12 models.\n",
            "01:21:26.850: _train param, Dropping bad and constant columns: [is_train]\n",
            "01:21:26.850: _response param, We have detected that your response column has only 2 unique values (0/1). If you wish to train a binary model instead of a regression model, convert your target column to categorical before training.\n",
            "\n",
            "██\n",
            "01:21:55.862: _train param, Dropping bad and constant columns: [is_train]\n",
            "01:21:55.862: _response param, We have detected that your response column has only 2 unique values (0/1). If you wish to train a binary model instead of a regression model, convert your target column to categorical before training.\n",
            "\n",
            "\n",
            "01:21:58.654: _train param, Dropping bad and constant columns: [is_train]\n",
            "01:21:58.654: _response param, We have detected that your response column has only 2 unique values (0/1). If you wish to train a binary model instead of a regression model, convert your target column to categorical before training.\n",
            "\n",
            "███\n",
            "01:22:20.633: _train param, Dropping bad and constant columns: [is_train]\n",
            "01:22:20.633: _response param, We have detected that your response column has only 2 unique values (0/1). If you wish to train a binary model instead of a regression model, convert your target column to categorical before training.\n",
            "\n",
            "\n",
            "01:22:34.263: _train param, Dropping bad and constant columns: [is_train]\n",
            "01:22:34.263: _response param, We have detected that your response column has only 2 unique values (0/1). If you wish to train a binary model instead of a regression model, convert your target column to categorical before training.\n",
            "\n",
            "███\n",
            "01:23:00.767: _train param, Dropping bad and constant columns: [is_train]\n",
            "01:23:00.767: _response param, We have detected that your response column has only 2 unique values (0/1). If you wish to train a binary model instead of a regression model, convert your target column to categorical before training.\n",
            "\n",
            "\n",
            "01:23:14.85: _train param, Dropping bad and constant columns: [is_train]\n",
            "01:23:14.85: _response param, We have detected that your response column has only 2 unique values (0/1). If you wish to train a binary model instead of a regression model, convert your target column to categorical before training.\n",
            "\n",
            "██\n",
            "01:23:28.108: _train param, Dropping bad and constant columns: [is_train]\n",
            "01:23:28.108: _response param, We have detected that your response column has only 2 unique values (0/1). If you wish to train a binary model instead of a regression model, convert your target column to categorical before training.\n",
            "\n",
            "█\n",
            "01:23:46.251: _train param, Dropping bad and constant columns: [is_train]\n",
            "01:23:46.251: _response param, We have detected that your response column has only 2 unique values (0/1). If you wish to train a binary model instead of a regression model, convert your target column to categorical before training.\n",
            "\n",
            "█\n",
            "01:23:57.213: _train param, Dropping bad and constant columns: [is_train]\n",
            "01:23:57.213: _response param, We have detected that your response column has only 2 unique values (0/1). If you wish to train a binary model instead of a regression model, convert your target column to categorical before training.\n",
            "\n",
            "███████████████████████████████████████████████████| (done) 100%\n",
            "\n",
            "01:24:29.609: _train param, Dropping unused columns: [is_train]\n",
            "01:24:29.609: _response param, We have detected that your response column has only 2 unique values (0/1). If you wish to train a binary model instead of a regression model, convert your target column to categorical before training.\n",
            "01:24:29.694: StackedEnsemble_BestOfFamily_2_AutoML_2_20240220_12126 [StackedEnsemble best_of_family_xglm (built with AUTO metalearner, using top model from each algorithm type)] failed: water.exceptions.H2OIllegalArgumentException: Failed to find the xval predictions frame. . .  Looks like keep_cross_validation_predictions wasn't set when building the models, or the frame was deleted.\n",
            "01:24:29.699: _train param, Dropping unused columns: [is_train]\n",
            "01:24:29.699: _response param, We have detected that your response column has only 2 unique values (0/1). If you wish to train a binary model instead of a regression model, convert your target column to categorical before training.\n",
            "01:24:29.734: StackedEnsemble_AllModels_2_AutoML_2_20240220_12126 [StackedEnsemble all_xglm (built with AUTO metalearner, using all AutoML models)] failed: water.exceptions.H2OIllegalArgumentException: Failed to find the xval predictions frame. . .  Looks like keep_cross_validation_predictions wasn't set when building the models, or the frame was deleted.\n",
            "\n"
          ]
        },
        {
          "output_type": "execute_result",
          "data": {
            "text/plain": [
              "Model Details\n",
              "=============\n",
              "H2OGradientBoostingEstimator : Gradient Boosting Machine\n",
              "Model Key: GBM_8_AutoML_2_20240220_12126\n",
              "\n",
              "\n",
              "Model Summary: \n",
              "    number_of_trees    number_of_internal_trees    model_size_in_bytes    min_depth    max_depth    mean_depth    min_leaves    max_leaves    mean_leaves\n",
              "--  -----------------  --------------------------  ---------------------  -----------  -----------  ------------  ------------  ------------  -------------\n",
              "    50                 50                          130755                 10           10           10            100           368           203.4\n",
              "\n",
              "ModelMetricsRegression: gbm\n",
              "** Reported on train data. **\n",
              "\n",
              "MSE: 0.07141939133730019\n",
              "RMSE: 0.2672440669824125\n",
              "MAE: 0.16462175974261903\n",
              "RMSLE: 0.18717361844854374\n",
              "Mean Residual Deviance: 0.07141939133730019\n",
              "\n",
              "ModelMetricsRegression: gbm\n",
              "** Reported on cross-validation data. **\n",
              "\n",
              "MSE: 0.09145127191401538\n",
              "RMSE: 0.30240911347711624\n",
              "MAE: 0.188339727804007\n",
              "RMSLE: 0.2125712449734588\n",
              "Mean Residual Deviance: 0.09145127191401538\n",
              "\n",
              "Cross-Validation Metrics Summary: \n",
              "                        mean       sd          cv_1_valid    cv_2_valid    cv_3_valid    cv_4_valid    cv_5_valid\n",
              "----------------------  ---------  ----------  ------------  ------------  ------------  ------------  ------------\n",
              "mae                     0.188541   0.00207349  0.185249      0.190702      0.189832      0.188395      0.188529\n",
              "mean_residual_deviance  0.0916063  0.00165292  0.0894796     0.0939107     0.0914945     0.0908381     0.0923084\n",
              "mse                     0.0916063  0.00165292  0.0894796     0.0939107     0.0914945     0.0908381     0.0923084\n",
              "r2                      0.499974   0.00759029  0.507778      0.495624      0.501345      0.505841      0.489282\n",
              "residual_deviance       0.0916063  0.00165292  0.0894796     0.0939107     0.0914945     0.0908381     0.0923084\n",
              "rmse                    0.302655   0.0027291   0.299131      0.306449      0.302481      0.301394      0.303823\n",
              "rmsle                   0.212919   0.00200309  0.210389      0.214288      0.214536      0.211101      0.214281\n",
              "\n",
              "Scoring History: \n",
              "    timestamp            duration    number_of_trees    training_rmse    training_mae    training_deviance\n",
              "--  -------------------  ----------  -----------------  ---------------  --------------  -------------------\n",
              "    2024-02-20 01:23:44  16.129 sec  0                  0.428041         0.366437        0.183219\n",
              "    2024-02-20 01:23:44  16.329 sec  5                  0.354106         0.295199        0.125391\n",
              "    2024-02-20 01:23:44  16.544 sec  10                 0.318055         0.249661        0.101159\n",
              "    2024-02-20 01:23:44  16.750 sec  15                 0.30027          0.21992         0.0901618\n",
              "    2024-02-20 01:23:45  16.947 sec  20                 0.290522         0.201203        0.0844028\n",
              "    2024-02-20 01:23:45  17.147 sec  25                 0.283831         0.188238        0.08056\n",
              "    2024-02-20 01:23:45  17.350 sec  30                 0.279924         0.179605        0.0783575\n",
              "    2024-02-20 01:23:45  17.556 sec  35                 0.275873         0.173697        0.0761057\n",
              "    2024-02-20 01:23:45  17.746 sec  40                 0.273418         0.169851        0.0747576\n",
              "    2024-02-20 01:23:46  17.934 sec  45                 0.270168         0.166732        0.0729909\n",
              "    2024-02-20 01:23:46  18.123 sec  50                 0.267244         0.164622        0.0714194\n",
              "\n",
              "Variable Importances: \n",
              "variable        relative_importance    scaled_importance    percentage\n",
              "--------------  ---------------------  -------------------  ------------\n",
              "capital-gain    3126.8                 1                    0.24281\n",
              "relationship    2570.41                0.822056             0.199603\n",
              "education-num   1299.77                0.415685             0.100932\n",
              "marital-status  1217.38                0.389337             0.0945348\n",
              "age             929.645                0.297315             0.072191\n",
              "capital-loss    752.356                0.240615             0.0584238\n",
              "education       673.927                0.215533             0.0523334\n",
              "hours-per-week  666.288                0.213089             0.0517402\n",
              "occupation      649.49                 0.207717             0.0504357\n",
              "fnlwgt          488.527                0.156239             0.0379363\n",
              "workclass       273.489                0.087466             0.0212376\n",
              "native-country  89.8675                0.028741             0.0069786\n",
              "race            70.3067                0.0224852            0.00545962\n",
              "sex             69.3258                0.0221715            0.00538345\n",
              "\n",
              "[tips]\n",
              "Use `model.explain()` to inspect the model.\n",
              "--\n",
              "Use `h2o.display.toggle_user_tips()` to switch on/off this section."
            ],
            "text/html": [
              "<pre style='margin: 1em 0 1em 0;'>Model Details\n",
              "=============\n",
              "H2OGradientBoostingEstimator : Gradient Boosting Machine\n",
              "Model Key: GBM_8_AutoML_2_20240220_12126\n",
              "</pre>\n",
              "<div style='margin: 1em 0 1em 0;'>\n",
              "<style>\n",
              "\n",
              "#h2o-table-6.h2o-container {\n",
              "  overflow-x: auto;\n",
              "}\n",
              "#h2o-table-6 .h2o-table {\n",
              "  /* width: 100%; */\n",
              "  margin-top: 1em;\n",
              "  margin-bottom: 1em;\n",
              "}\n",
              "#h2o-table-6 .h2o-table caption {\n",
              "  white-space: nowrap;\n",
              "  caption-side: top;\n",
              "  text-align: left;\n",
              "  /* margin-left: 1em; */\n",
              "  margin: 0;\n",
              "  font-size: larger;\n",
              "}\n",
              "#h2o-table-6 .h2o-table thead {\n",
              "  white-space: nowrap; \n",
              "  position: sticky;\n",
              "  top: 0;\n",
              "  box-shadow: 0 -1px inset;\n",
              "}\n",
              "#h2o-table-6 .h2o-table tbody {\n",
              "  overflow: auto;\n",
              "}\n",
              "#h2o-table-6 .h2o-table th,\n",
              "#h2o-table-6 .h2o-table td {\n",
              "  text-align: right;\n",
              "  /* border: 1px solid; */\n",
              "}\n",
              "#h2o-table-6 .h2o-table tr:nth-child(even) {\n",
              "  /* background: #F5F5F5 */\n",
              "}\n",
              "\n",
              "</style>      \n",
              "<div id=\"h2o-table-6\" class=\"h2o-container\">\n",
              "  <table class=\"h2o-table\">\n",
              "    <caption>Model Summary: </caption>\n",
              "    <thead><tr><th></th>\n",
              "<th>number_of_trees</th>\n",
              "<th>number_of_internal_trees</th>\n",
              "<th>model_size_in_bytes</th>\n",
              "<th>min_depth</th>\n",
              "<th>max_depth</th>\n",
              "<th>mean_depth</th>\n",
              "<th>min_leaves</th>\n",
              "<th>max_leaves</th>\n",
              "<th>mean_leaves</th></tr></thead>\n",
              "    <tbody><tr><td></td>\n",
              "<td>50.0</td>\n",
              "<td>50.0</td>\n",
              "<td>130755.0</td>\n",
              "<td>10.0</td>\n",
              "<td>10.0</td>\n",
              "<td>10.0</td>\n",
              "<td>100.0</td>\n",
              "<td>368.0</td>\n",
              "<td>203.4</td></tr></tbody>\n",
              "  </table>\n",
              "</div>\n",
              "</div>\n",
              "<div style='margin: 1em 0 1em 0;'><pre style='margin: 1em 0 1em 0;'>ModelMetricsRegression: gbm\n",
              "** Reported on train data. **\n",
              "\n",
              "MSE: 0.07141939133730019\n",
              "RMSE: 0.2672440669824125\n",
              "MAE: 0.16462175974261903\n",
              "RMSLE: 0.18717361844854374\n",
              "Mean Residual Deviance: 0.07141939133730019</pre></div>\n",
              "<div style='margin: 1em 0 1em 0;'><pre style='margin: 1em 0 1em 0;'>ModelMetricsRegression: gbm\n",
              "** Reported on cross-validation data. **\n",
              "\n",
              "MSE: 0.09145127191401538\n",
              "RMSE: 0.30240911347711624\n",
              "MAE: 0.188339727804007\n",
              "RMSLE: 0.2125712449734588\n",
              "Mean Residual Deviance: 0.09145127191401538</pre></div>\n",
              "<div style='margin: 1em 0 1em 0;'>\n",
              "<style>\n",
              "\n",
              "#h2o-table-7.h2o-container {\n",
              "  overflow-x: auto;\n",
              "}\n",
              "#h2o-table-7 .h2o-table {\n",
              "  /* width: 100%; */\n",
              "  margin-top: 1em;\n",
              "  margin-bottom: 1em;\n",
              "}\n",
              "#h2o-table-7 .h2o-table caption {\n",
              "  white-space: nowrap;\n",
              "  caption-side: top;\n",
              "  text-align: left;\n",
              "  /* margin-left: 1em; */\n",
              "  margin: 0;\n",
              "  font-size: larger;\n",
              "}\n",
              "#h2o-table-7 .h2o-table thead {\n",
              "  white-space: nowrap; \n",
              "  position: sticky;\n",
              "  top: 0;\n",
              "  box-shadow: 0 -1px inset;\n",
              "}\n",
              "#h2o-table-7 .h2o-table tbody {\n",
              "  overflow: auto;\n",
              "}\n",
              "#h2o-table-7 .h2o-table th,\n",
              "#h2o-table-7 .h2o-table td {\n",
              "  text-align: right;\n",
              "  /* border: 1px solid; */\n",
              "}\n",
              "#h2o-table-7 .h2o-table tr:nth-child(even) {\n",
              "  /* background: #F5F5F5 */\n",
              "}\n",
              "\n",
              "</style>      \n",
              "<div id=\"h2o-table-7\" class=\"h2o-container\">\n",
              "  <table class=\"h2o-table\">\n",
              "    <caption>Cross-Validation Metrics Summary: </caption>\n",
              "    <thead><tr><th></th>\n",
              "<th>mean</th>\n",
              "<th>sd</th>\n",
              "<th>cv_1_valid</th>\n",
              "<th>cv_2_valid</th>\n",
              "<th>cv_3_valid</th>\n",
              "<th>cv_4_valid</th>\n",
              "<th>cv_5_valid</th></tr></thead>\n",
              "    <tbody><tr><td>mae</td>\n",
              "<td>0.1885412</td>\n",
              "<td>0.0020735</td>\n",
              "<td>0.1852486</td>\n",
              "<td>0.1907017</td>\n",
              "<td>0.1898323</td>\n",
              "<td>0.1883946</td>\n",
              "<td>0.1885287</td></tr>\n",
              "<tr><td>mean_residual_deviance</td>\n",
              "<td>0.0916063</td>\n",
              "<td>0.0016529</td>\n",
              "<td>0.0894796</td>\n",
              "<td>0.0939107</td>\n",
              "<td>0.0914945</td>\n",
              "<td>0.0908381</td>\n",
              "<td>0.0923084</td></tr>\n",
              "<tr><td>mse</td>\n",
              "<td>0.0916063</td>\n",
              "<td>0.0016529</td>\n",
              "<td>0.0894796</td>\n",
              "<td>0.0939107</td>\n",
              "<td>0.0914945</td>\n",
              "<td>0.0908381</td>\n",
              "<td>0.0923084</td></tr>\n",
              "<tr><td>r2</td>\n",
              "<td>0.4999739</td>\n",
              "<td>0.0075903</td>\n",
              "<td>0.5077782</td>\n",
              "<td>0.4956241</td>\n",
              "<td>0.501345</td>\n",
              "<td>0.5058405</td>\n",
              "<td>0.4892816</td></tr>\n",
              "<tr><td>residual_deviance</td>\n",
              "<td>0.0916063</td>\n",
              "<td>0.0016529</td>\n",
              "<td>0.0894796</td>\n",
              "<td>0.0939107</td>\n",
              "<td>0.0914945</td>\n",
              "<td>0.0908381</td>\n",
              "<td>0.0923084</td></tr>\n",
              "<tr><td>rmse</td>\n",
              "<td>0.3026555</td>\n",
              "<td>0.0027291</td>\n",
              "<td>0.2991315</td>\n",
              "<td>0.3064485</td>\n",
              "<td>0.3024806</td>\n",
              "<td>0.3013937</td>\n",
              "<td>0.3038230</td></tr>\n",
              "<tr><td>rmsle</td>\n",
              "<td>0.2129189</td>\n",
              "<td>0.0020031</td>\n",
              "<td>0.2103887</td>\n",
              "<td>0.2142881</td>\n",
              "<td>0.2145359</td>\n",
              "<td>0.2111013</td>\n",
              "<td>0.2142808</td></tr></tbody>\n",
              "  </table>\n",
              "</div>\n",
              "</div>\n",
              "<div style='margin: 1em 0 1em 0;'>\n",
              "<style>\n",
              "\n",
              "#h2o-table-8.h2o-container {\n",
              "  overflow-x: auto;\n",
              "}\n",
              "#h2o-table-8 .h2o-table {\n",
              "  /* width: 100%; */\n",
              "  margin-top: 1em;\n",
              "  margin-bottom: 1em;\n",
              "}\n",
              "#h2o-table-8 .h2o-table caption {\n",
              "  white-space: nowrap;\n",
              "  caption-side: top;\n",
              "  text-align: left;\n",
              "  /* margin-left: 1em; */\n",
              "  margin: 0;\n",
              "  font-size: larger;\n",
              "}\n",
              "#h2o-table-8 .h2o-table thead {\n",
              "  white-space: nowrap; \n",
              "  position: sticky;\n",
              "  top: 0;\n",
              "  box-shadow: 0 -1px inset;\n",
              "}\n",
              "#h2o-table-8 .h2o-table tbody {\n",
              "  overflow: auto;\n",
              "}\n",
              "#h2o-table-8 .h2o-table th,\n",
              "#h2o-table-8 .h2o-table td {\n",
              "  text-align: right;\n",
              "  /* border: 1px solid; */\n",
              "}\n",
              "#h2o-table-8 .h2o-table tr:nth-child(even) {\n",
              "  /* background: #F5F5F5 */\n",
              "}\n",
              "\n",
              "</style>      \n",
              "<div id=\"h2o-table-8\" class=\"h2o-container\">\n",
              "  <table class=\"h2o-table\">\n",
              "    <caption>Scoring History: </caption>\n",
              "    <thead><tr><th></th>\n",
              "<th>timestamp</th>\n",
              "<th>duration</th>\n",
              "<th>number_of_trees</th>\n",
              "<th>training_rmse</th>\n",
              "<th>training_mae</th>\n",
              "<th>training_deviance</th></tr></thead>\n",
              "    <tbody><tr><td></td>\n",
              "<td>2024-02-20 01:23:44</td>\n",
              "<td>16.129 sec</td>\n",
              "<td>0.0</td>\n",
              "<td>0.4280405</td>\n",
              "<td>0.3664374</td>\n",
              "<td>0.1832187</td></tr>\n",
              "<tr><td></td>\n",
              "<td>2024-02-20 01:23:44</td>\n",
              "<td>16.329 sec</td>\n",
              "<td>5.0</td>\n",
              "<td>0.3541062</td>\n",
              "<td>0.2951992</td>\n",
              "<td>0.1253912</td></tr>\n",
              "<tr><td></td>\n",
              "<td>2024-02-20 01:23:44</td>\n",
              "<td>16.544 sec</td>\n",
              "<td>10.0</td>\n",
              "<td>0.3180549</td>\n",
              "<td>0.2496613</td>\n",
              "<td>0.1011589</td></tr>\n",
              "<tr><td></td>\n",
              "<td>2024-02-20 01:23:44</td>\n",
              "<td>16.750 sec</td>\n",
              "<td>15.0</td>\n",
              "<td>0.3002695</td>\n",
              "<td>0.2199196</td>\n",
              "<td>0.0901618</td></tr>\n",
              "<tr><td></td>\n",
              "<td>2024-02-20 01:23:45</td>\n",
              "<td>16.947 sec</td>\n",
              "<td>20.0</td>\n",
              "<td>0.2905215</td>\n",
              "<td>0.2012031</td>\n",
              "<td>0.0844028</td></tr>\n",
              "<tr><td></td>\n",
              "<td>2024-02-20 01:23:45</td>\n",
              "<td>17.147 sec</td>\n",
              "<td>25.0</td>\n",
              "<td>0.2838309</td>\n",
              "<td>0.1882382</td>\n",
              "<td>0.0805600</td></tr>\n",
              "<tr><td></td>\n",
              "<td>2024-02-20 01:23:45</td>\n",
              "<td>17.350 sec</td>\n",
              "<td>30.0</td>\n",
              "<td>0.2799241</td>\n",
              "<td>0.1796055</td>\n",
              "<td>0.0783575</td></tr>\n",
              "<tr><td></td>\n",
              "<td>2024-02-20 01:23:45</td>\n",
              "<td>17.556 sec</td>\n",
              "<td>35.0</td>\n",
              "<td>0.2758727</td>\n",
              "<td>0.1736969</td>\n",
              "<td>0.0761057</td></tr>\n",
              "<tr><td></td>\n",
              "<td>2024-02-20 01:23:45</td>\n",
              "<td>17.746 sec</td>\n",
              "<td>40.0</td>\n",
              "<td>0.2734183</td>\n",
              "<td>0.1698512</td>\n",
              "<td>0.0747576</td></tr>\n",
              "<tr><td></td>\n",
              "<td>2024-02-20 01:23:46</td>\n",
              "<td>17.934 sec</td>\n",
              "<td>45.0</td>\n",
              "<td>0.2701682</td>\n",
              "<td>0.1667324</td>\n",
              "<td>0.0729909</td></tr>\n",
              "<tr><td></td>\n",
              "<td>2024-02-20 01:23:46</td>\n",
              "<td>18.123 sec</td>\n",
              "<td>50.0</td>\n",
              "<td>0.2672441</td>\n",
              "<td>0.1646218</td>\n",
              "<td>0.0714194</td></tr></tbody>\n",
              "  </table>\n",
              "</div>\n",
              "</div>\n",
              "<div style='margin: 1em 0 1em 0;'>\n",
              "<style>\n",
              "\n",
              "#h2o-table-9.h2o-container {\n",
              "  overflow-x: auto;\n",
              "}\n",
              "#h2o-table-9 .h2o-table {\n",
              "  /* width: 100%; */\n",
              "  margin-top: 1em;\n",
              "  margin-bottom: 1em;\n",
              "}\n",
              "#h2o-table-9 .h2o-table caption {\n",
              "  white-space: nowrap;\n",
              "  caption-side: top;\n",
              "  text-align: left;\n",
              "  /* margin-left: 1em; */\n",
              "  margin: 0;\n",
              "  font-size: larger;\n",
              "}\n",
              "#h2o-table-9 .h2o-table thead {\n",
              "  white-space: nowrap; \n",
              "  position: sticky;\n",
              "  top: 0;\n",
              "  box-shadow: 0 -1px inset;\n",
              "}\n",
              "#h2o-table-9 .h2o-table tbody {\n",
              "  overflow: auto;\n",
              "}\n",
              "#h2o-table-9 .h2o-table th,\n",
              "#h2o-table-9 .h2o-table td {\n",
              "  text-align: right;\n",
              "  /* border: 1px solid; */\n",
              "}\n",
              "#h2o-table-9 .h2o-table tr:nth-child(even) {\n",
              "  /* background: #F5F5F5 */\n",
              "}\n",
              "\n",
              "</style>      \n",
              "<div id=\"h2o-table-9\" class=\"h2o-container\">\n",
              "  <table class=\"h2o-table\">\n",
              "    <caption>Variable Importances: </caption>\n",
              "    <thead><tr><th>variable</th>\n",
              "<th>relative_importance</th>\n",
              "<th>scaled_importance</th>\n",
              "<th>percentage</th></tr></thead>\n",
              "    <tbody><tr><td>capital-gain</td>\n",
              "<td>3126.8015137</td>\n",
              "<td>1.0</td>\n",
              "<td>0.2428098</td></tr>\n",
              "<tr><td>relationship</td>\n",
              "<td>2570.4057617</td>\n",
              "<td>0.8220559</td>\n",
              "<td>0.1996033</td></tr>\n",
              "<tr><td>education-num</td>\n",
              "<td>1299.7653809</td>\n",
              "<td>0.4156853</td>\n",
              "<td>0.1009325</td></tr>\n",
              "<tr><td>marital-status</td>\n",
              "<td>1217.3784180</td>\n",
              "<td>0.3893366</td>\n",
              "<td>0.0945348</td></tr>\n",
              "<tr><td>age</td>\n",
              "<td>929.6446533</td>\n",
              "<td>0.2973149</td>\n",
              "<td>0.0721910</td></tr>\n",
              "<tr><td>capital-loss</td>\n",
              "<td>752.3562012</td>\n",
              "<td>0.2406153</td>\n",
              "<td>0.0584238</td></tr>\n",
              "<tr><td>education</td>\n",
              "<td>673.9274902</td>\n",
              "<td>0.2155325</td>\n",
              "<td>0.0523334</td></tr>\n",
              "<tr><td>hours-per-week</td>\n",
              "<td>666.2876587</td>\n",
              "<td>0.2130892</td>\n",
              "<td>0.0517402</td></tr>\n",
              "<tr><td>occupation</td>\n",
              "<td>649.4900513</td>\n",
              "<td>0.2077171</td>\n",
              "<td>0.0504357</td></tr>\n",
              "<tr><td>fnlwgt</td>\n",
              "<td>488.5270691</td>\n",
              "<td>0.1562386</td>\n",
              "<td>0.0379363</td></tr>\n",
              "<tr><td>workclass</td>\n",
              "<td>273.4888306</td>\n",
              "<td>0.0874660</td>\n",
              "<td>0.0212376</td></tr>\n",
              "<tr><td>native-country</td>\n",
              "<td>89.8674927</td>\n",
              "<td>0.0287410</td>\n",
              "<td>0.0069786</td></tr>\n",
              "<tr><td>race</td>\n",
              "<td>70.3067169</td>\n",
              "<td>0.0224852</td>\n",
              "<td>0.0054596</td></tr>\n",
              "<tr><td>sex</td>\n",
              "<td>69.3257675</td>\n",
              "<td>0.0221715</td>\n",
              "<td>0.0053834</td></tr></tbody>\n",
              "  </table>\n",
              "</div>\n",
              "</div><pre style=\"font-size: smaller; margin: 1em 0 0 0;\">\n",
              "\n",
              "[tips]\n",
              "Use `model.explain()` to inspect the model.\n",
              "--\n",
              "Use `h2o.display.toggle_user_tips()` to switch on/off this section.</pre>"
            ]
          },
          "metadata": {},
          "execution_count": 41
        }
      ],
      "source": [
        "from h2o.automl import H2OAutoML\n",
        "# Run AutoML for 10 base models (limited to 1 hour max runtime by default)\n",
        "aml = H2OAutoML(max_models=10, seed=1234, sort_metric=\"MAE\", project_name = \"random_split\")\n",
        "aml.train(x=x, y=\"salary\", training_frame=train)"
      ]
    },
    {
      "cell_type": "code",
      "source": [
        "# View the AutoML Leaderboard\n",
        "lb = aml.leaderboard\n",
        "lb.head()"
      ],
      "metadata": {
        "colab": {
          "base_uri": "https://localhost:8080/",
          "height": 385
        },
        "id": "Mfsrcpd5XwIe",
        "outputId": "2600e99a-1898-4d5b-90c4-a41b4d034fd1"
      },
      "execution_count": 36,
      "outputs": [
        {
          "output_type": "execute_result",
          "data": {
            "text/plain": [
              "model_id                                                      mae      rmse        mse     rmsle    mean_residual_deviance\n",
              "-------------------------------------------------------  --------  --------  ---------  --------  ------------------------\n",
              "GBM_4_AutoML_1_20240219_215043                           0.18834   0.302409  0.0914513  0.212571                 0.0914513\n",
              "StackedEnsemble_AllModels_1_AutoML_1_20240219_215043     0.189412  0.301126  0.090677   0.211519                 0.090677\n",
              "StackedEnsemble_BestOfFamily_1_AutoML_1_20240219_215043  0.189823  0.301558  0.0909371  0.211918                 0.0909371\n",
              "GBM_3_AutoML_1_20240219_215043                           0.191049  0.30246   0.091482   0.212453                 0.091482\n",
              "GBM_2_AutoML_1_20240219_215043                           0.192048  0.302111  0.0912712  0.212272                 0.0912712\n",
              "DRF_1_AutoML_1_20240219_215043                           0.194019  0.314931  0.0991813  0.22244                  0.0991813\n",
              "GBM_1_AutoML_1_20240219_215043                           0.194467  0.305842  0.0935391  0.215103                 0.0935391\n",
              "XGBoost_3_AutoML_1_20240219_215043                       0.197605  0.304784  0.0928934  0.214532                 0.0928934\n",
              "XRT_1_AutoML_1_20240219_215043                           0.199335  0.312629  0.0977371  0.220084                 0.0977371\n",
              "XGBoost_2_AutoML_1_20240219_215043                       0.204794  0.31908   0.101812   0.226545                 0.101812\n",
              "[10 rows x 6 columns]\n"
            ],
            "text/html": [
              "<table class='dataframe'>\n",
              "<thead>\n",
              "<tr><th>model_id                                               </th><th style=\"text-align: right;\">     mae</th><th style=\"text-align: right;\">    rmse</th><th style=\"text-align: right;\">      mse</th><th style=\"text-align: right;\">   rmsle</th><th style=\"text-align: right;\">  mean_residual_deviance</th></tr>\n",
              "</thead>\n",
              "<tbody>\n",
              "<tr><td>GBM_4_AutoML_1_20240219_215043                         </td><td style=\"text-align: right;\">0.18834 </td><td style=\"text-align: right;\">0.302409</td><td style=\"text-align: right;\">0.0914513</td><td style=\"text-align: right;\">0.212571</td><td style=\"text-align: right;\">               0.0914513</td></tr>\n",
              "<tr><td>StackedEnsemble_AllModels_1_AutoML_1_20240219_215043   </td><td style=\"text-align: right;\">0.189412</td><td style=\"text-align: right;\">0.301126</td><td style=\"text-align: right;\">0.090677 </td><td style=\"text-align: right;\">0.211519</td><td style=\"text-align: right;\">               0.090677 </td></tr>\n",
              "<tr><td>StackedEnsemble_BestOfFamily_1_AutoML_1_20240219_215043</td><td style=\"text-align: right;\">0.189823</td><td style=\"text-align: right;\">0.301558</td><td style=\"text-align: right;\">0.0909371</td><td style=\"text-align: right;\">0.211918</td><td style=\"text-align: right;\">               0.0909371</td></tr>\n",
              "<tr><td>GBM_3_AutoML_1_20240219_215043                         </td><td style=\"text-align: right;\">0.191049</td><td style=\"text-align: right;\">0.30246 </td><td style=\"text-align: right;\">0.091482 </td><td style=\"text-align: right;\">0.212453</td><td style=\"text-align: right;\">               0.091482 </td></tr>\n",
              "<tr><td>GBM_2_AutoML_1_20240219_215043                         </td><td style=\"text-align: right;\">0.192048</td><td style=\"text-align: right;\">0.302111</td><td style=\"text-align: right;\">0.0912712</td><td style=\"text-align: right;\">0.212272</td><td style=\"text-align: right;\">               0.0912712</td></tr>\n",
              "<tr><td>DRF_1_AutoML_1_20240219_215043                         </td><td style=\"text-align: right;\">0.194019</td><td style=\"text-align: right;\">0.314931</td><td style=\"text-align: right;\">0.0991813</td><td style=\"text-align: right;\">0.22244 </td><td style=\"text-align: right;\">               0.0991813</td></tr>\n",
              "<tr><td>GBM_1_AutoML_1_20240219_215043                         </td><td style=\"text-align: right;\">0.194467</td><td style=\"text-align: right;\">0.305842</td><td style=\"text-align: right;\">0.0935391</td><td style=\"text-align: right;\">0.215103</td><td style=\"text-align: right;\">               0.0935391</td></tr>\n",
              "<tr><td>XGBoost_3_AutoML_1_20240219_215043                     </td><td style=\"text-align: right;\">0.197605</td><td style=\"text-align: right;\">0.304784</td><td style=\"text-align: right;\">0.0928934</td><td style=\"text-align: right;\">0.214532</td><td style=\"text-align: right;\">               0.0928934</td></tr>\n",
              "<tr><td>XRT_1_AutoML_1_20240219_215043                         </td><td style=\"text-align: right;\">0.199335</td><td style=\"text-align: right;\">0.312629</td><td style=\"text-align: right;\">0.0977371</td><td style=\"text-align: right;\">0.220084</td><td style=\"text-align: right;\">               0.0977371</td></tr>\n",
              "<tr><td>XGBoost_2_AutoML_1_20240219_215043                     </td><td style=\"text-align: right;\">0.204794</td><td style=\"text-align: right;\">0.31908 </td><td style=\"text-align: right;\">0.101812 </td><td style=\"text-align: right;\">0.226545</td><td style=\"text-align: right;\">               0.101812 </td></tr>\n",
              "</tbody>\n",
              "</table><pre style='font-size: smaller; margin-bottom: 1em;'>[10 rows x 6 columns]</pre>"
            ]
          },
          "metadata": {},
          "execution_count": 36
        }
      ]
    },
    {
      "cell_type": "code",
      "source": [
        "best_model = aml.leader\n",
        "best_model.model_performance(test)"
      ],
      "metadata": {
        "colab": {
          "base_uri": "https://localhost:8080/",
          "height": 181
        },
        "id": "JYwdwmuyXzQY",
        "outputId": "807276fc-87fb-42c4-a5a0-ba029c6a2eef"
      },
      "execution_count": 42,
      "outputs": [
        {
          "output_type": "execute_result",
          "data": {
            "text/plain": [
              "ModelMetricsRegression: gbm\n",
              "** Reported on test data. **\n",
              "\n",
              "MSE: 0.09093659844001048\n",
              "RMSE: 0.3015569572071095\n",
              "MAE: 0.18710770131698776\n",
              "RMSLE: 0.21207132534781378\n",
              "Mean Residual Deviance: 0.09093659844001048"
            ],
            "text/html": [
              "<pre style='margin: 1em 0 1em 0;'>ModelMetricsRegression: gbm\n",
              "** Reported on test data. **\n",
              "\n",
              "MSE: 0.09093659844001048\n",
              "RMSE: 0.3015569572071095\n",
              "MAE: 0.18710770131698776\n",
              "RMSLE: 0.21207132534781378\n",
              "Mean Residual Deviance: 0.09093659844001048</pre>"
            ]
          },
          "metadata": {},
          "execution_count": 42
        }
      ]
    },
    {
      "cell_type": "markdown",
      "source": [
        "**THE IMPORTANCE OF EACH COLUMN**"
      ],
      "metadata": {
        "id": "NUatX50AYN6a"
      }
    },
    {
      "cell_type": "code",
      "source": [
        "%matplotlib inline\n",
        "best_model.varimp_plot()"
      ],
      "metadata": {
        "colab": {
          "base_uri": "https://localhost:8080/",
          "height": 895
        },
        "id": "GLpomfuOX4oM",
        "outputId": "1c387407-c514-43ce-bbc6-06ba41566f74"
      },
      "execution_count": 43,
      "outputs": [
        {
          "output_type": "display_data",
          "data": {
            "text/plain": [
              "<Figure size 1400x1000 with 1 Axes>"
            ],
            "image/png": "[encoded data removed]"
          },
          "metadata": {}
        },
        {
          "output_type": "execute_result",
          "data": {
            "text/plain": [
              "<h2o.plot._plot_result._MObject at 0x7b8a58bc82e0>"
            ]
          },
          "metadata": {},
          "execution_count": 43
        },
        {
          "output_type": "display_data",
          "data": {
            "text/plain": [
              "<Figure size 640x480 with 0 Axes>"
            ]
          },
          "metadata": {}
        }
      ]
    },
    {
      "cell_type": "markdown",
      "source": [
        "**ANSWERS FOR QUESTIONS**\n",
        "\n",
        "\n",
        "1)Is the relationship significant?\n",
        "\n",
        "-Yes, the relationship between the predictor variables and the target variable (salary) is significant. This is indicated by the low p-values (p < 0.05) associated with each predictor variable in the OLS regression results, suggesting that they have a statistically significant impact on the target variable.\n",
        "\n",
        "2)Are any model assumptions violated?\n",
        "\n",
        "-Model assumptions such as linearity, normality of residuals, and homoscedasticity should be assessed. Without the specific outputs related to residuals and diagnostic plots, it's challenging to determine if any assumptions are violated.\n",
        "\n",
        "3)Is there any multicollinearity in the model?\n",
        "\n",
        "-Yes, there is multicollinearity present in the model. This is indicated by the high Variance Inflation Factors (VIFs) for \"age,\" \"education-num,\" and \"hours-per-week,\" which exceed the commonly accepted threshold of 5. These values suggest strong correlations among these independent variables, which can impact the model's reliability and interpretation.\n",
        "\n",
        "4)In the multivariate models are predictor variables independent of all the other predictor variables?\n",
        "\n",
        "-No, in the multivariate models, the predictor variables are not independent of all the other predictor variables. This can be seen from the heatmap, where there are many non-zero correlations between the predictor variables. For example, there is a strong positive correlation between education and education-num (0.36), and a strong negative correlation between relationship and education (-0.58).\n",
        "\n",
        "5)Does the model make sense?\n",
        "\n",
        "-Without detailed analysis and context about the dataset and the problem being solved, it's challenging to definitively say whether the model makes sense. However, the steps you've taken, such as data preprocessing, model training, and evaluation, suggest a systematic approach to building the model.\n",
        "\n",
        "6)Does regularization help?\n",
        "\n",
        "-Regularization, specifically Ridge regression with an alpha of 0.5, was applied to address multicollinearity issues. The impact of regularization can be assessed by comparing the performance metrics (e.g., RMSE) of the regularized model to those of a non-regularized model.\n",
        "\n",
        "7)Which independent variables are significant?\n",
        "\n",
        "-The significance of independent variables can be determined by examining their coefficients, p-values, or importance scores from the model. For instance, in the AutoML model, you can refer to the variable importance plot (varimp_plot()) to identify significant variables.\n",
        "\n",
        "8)Which hyperparameters are important?\n",
        "\n",
        "In Ridge regression, the most important hyperparameter is `alpha`, also known as the regularization strength. It controls the amount of regularization applied to the model. A higher alpha value leads to stronger regularization, which can help prevent overfitting by shrinking the coefficients towards zero. Therefore, in hyperparameter tuning, finding the optimal alpha value is crucial for achieving the best model performance.\n",
        "\n",
        "9)Coding professionalism?\n",
        "\n",
        "-yes.\n",
        "\n"
      ],
      "metadata": {
        "id": "l2f6484WeoMt"
      }
    },
    {
      "cell_type": "markdown",
      "source": [
        "REFERENCES:-\n",
        "\n",
        "1) ChatGPT\n",
        "\n",
        "2)https://github.com/aiskunks/YouTube/blob/main/A_Crash_Course_in_Statistical_Learning/AutoML/AutoML_Smoke_Detection_Example.ipynb"
      ],
      "metadata": {
        "id": "DjvyMq2XGLxI"
      }
    },
    {
      "cell_type": "markdown",
      "source": [
        "MIT License\n",
        "\n",
        "Copyright (c) 2024 thoratmansi\n",
        "\n",
        "Permission is hereby granted, free of charge, to any person obtaining a copy\n",
        "of this software and associated documentation files (the \"Software\"), to deal\n",
        "in the Software without restriction, including without limitation the rights\n",
        "to use, copy, modify, merge, publish, distribute, sublicense, and/or sell\n",
        "copies of the Software, and to permit persons to whom the Software is\n",
        "furnished to do so, subject to the following conditions:\n",
        "\n",
        "The above copyright notice and this permission notice shall be included in all\n",
        "copies or substantial portions of the Software.\n",
        "\n",
        "THE SOFTWARE IS PROVIDED \"AS IS\", WITHOUT WARRANTY OF ANY KIND, EXPRESS OR\n",
        "IMPLIED, INCLUDING BUT NOT LIMITED TO THE WARRANTIES OF MERCHANTABILITY,\n",
        "FITNESS FOR A PARTICULAR PURPOSE AND NONINFRINGEMENT. IN NO EVENT SHALL THE\n",
        "AUTHORS OR COPYRIGHT HOLDERS BE LIABLE FOR ANY CLAIM, DAMAGES OR OTHER\n",
        "LIABILITY, WHETHER IN AN ACTION OF CONTRACT, TORT OR OTHERWISE, ARISING FROM,\n",
        "OUT OF OR IN CONNECTION WITH THE SOFTWARE OR THE USE OR OTHER DEALINGS IN THE\n",
        "SOFTWARE."
      ],
      "metadata": {
        "id": "gECs9avVE_S4"
      }
    }
  ],
  "metadata": {
    "colab": {
      "provenance": []
    },
    "kernelspec": {
      "display_name": "Python 3",
      "name": "python3"
    },
    "language_info": {
      "name": "python"
    }
  },
  "nbformat": 4,
  "nbformat_minor": 0
}